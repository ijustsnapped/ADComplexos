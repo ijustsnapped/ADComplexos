{
 "cells": [
  {
   "cell_type": "markdown",
   "metadata": {},
   "source": [
    "# Project for ADC"
   ]
  },
  {
   "cell_type": "code",
   "execution_count": null,
   "metadata": {},
   "outputs": [
    {
     "ename": "ValueError",
     "evalue": "time data \"23\" doesn't match format \"%H:%M, %d %B %Y\", at position 0. You might want to try:\n    - passing `format` if your strings have a consistent format;\n    - passing `format='ISO8601'` if your strings are all ISO8601 but not necessarily in exactly the same format;\n    - passing `format='mixed'`, and the format will be inferred for each element individually. You might want to use `dayfirst` alongside this.",
     "output_type": "error",
     "traceback": [
      "\u001b[0;31m---------------------------------------------------------------------------\u001b[0m",
      "\u001b[0;31mValueError\u001b[0m                                Traceback (most recent call last)",
      "Cell \u001b[0;32mIn[58], line 48\u001b[0m\n\u001b[1;32m     45\u001b[0m G_neu  \u001b[38;5;241m=\u001b[39m pgv\u001b[38;5;241m.\u001b[39mAGraph(strict\u001b[38;5;241m=\u001b[39m\u001b[38;5;28;01mFalse\u001b[39;00m, directed\u001b[38;5;241m=\u001b[39m\u001b[38;5;28;01mTrue\u001b[39;00m)\n\u001b[1;32m     47\u001b[0m \u001b[38;5;66;03m# Extract edges (SRC, TGT) and associated metadata\u001b[39;00m\n\u001b[0;32m---> 48\u001b[0m edges \u001b[38;5;241m=\u001b[39m \u001b[43mextract_edges_from_file\u001b[49m\u001b[43m(\u001b[49m\u001b[43mfile_path\u001b[49m\u001b[43m)\u001b[49m\n\u001b[1;32m     50\u001b[0m \u001b[38;5;66;03m# Add edges to the graph with metadata as attributes\u001b[39;00m\n\u001b[1;32m     51\u001b[0m \u001b[38;5;28;01mfor\u001b[39;00m src, tgt, vot, dat, yea, res, txt \u001b[38;5;129;01min\u001b[39;00m edges:\n\u001b[1;32m     52\u001b[0m     \u001b[38;5;66;03m# Ensure SRC and TGT are valid non-empty strings\u001b[39;00m\n",
      "Cell \u001b[0;32mIn[58], line 23\u001b[0m, in \u001b[0;36mextract_edges_from_file\u001b[0;34m(file_path)\u001b[0m\n\u001b[1;32m     21\u001b[0m     entry[\u001b[38;5;124m'\u001b[39m\u001b[38;5;124mVOT\u001b[39m\u001b[38;5;124m'\u001b[39m] \u001b[38;5;241m=\u001b[39m \u001b[38;5;28mint\u001b[39m(line\u001b[38;5;241m.\u001b[39mstrip()\u001b[38;5;241m.\u001b[39msplit(\u001b[38;5;124m'\u001b[39m\u001b[38;5;124m:\u001b[39m\u001b[38;5;124m'\u001b[39m)[\u001b[38;5;241m1\u001b[39m])  \u001b[38;5;66;03m# Voting value (int)\u001b[39;00m\n\u001b[1;32m     22\u001b[0m \u001b[38;5;28;01melif\u001b[39;00m line\u001b[38;5;241m.\u001b[39mstartswith(\u001b[38;5;124m\"\u001b[39m\u001b[38;5;124mDAT:\u001b[39m\u001b[38;5;124m\"\u001b[39m):\n\u001b[0;32m---> 23\u001b[0m     entry[\u001b[38;5;124m'\u001b[39m\u001b[38;5;124mDAT\u001b[39m\u001b[38;5;124m'\u001b[39m] \u001b[38;5;241m=\u001b[39m \u001b[43mpd\u001b[49m\u001b[38;5;241;43m.\u001b[39;49m\u001b[43mto_datetime\u001b[49m\u001b[43m(\u001b[49m\u001b[43mline\u001b[49m\u001b[38;5;241;43m.\u001b[39;49m\u001b[43mstrip\u001b[49m\u001b[43m(\u001b[49m\u001b[43m)\u001b[49m\u001b[38;5;241;43m.\u001b[39;49m\u001b[43msplit\u001b[49m\u001b[43m(\u001b[49m\u001b[38;5;124;43m'\u001b[39;49m\u001b[38;5;124;43m:\u001b[39;49m\u001b[38;5;124;43m'\u001b[39;49m\u001b[43m)\u001b[49m\u001b[43m[\u001b[49m\u001b[38;5;241;43m1\u001b[39;49m\u001b[43m]\u001b[49m\u001b[43m,\u001b[49m\u001b[43m \u001b[49m\u001b[38;5;28;43mformat\u001b[39;49m\u001b[38;5;241;43m=\u001b[39;49m\u001b[38;5;124;43m\"\u001b[39;49m\u001b[38;5;124;43m%\u001b[39;49m\u001b[38;5;124;43mH:\u001b[39;49m\u001b[38;5;124;43m%\u001b[39;49m\u001b[38;5;124;43mM, \u001b[39;49m\u001b[38;5;132;43;01m%d\u001b[39;49;00m\u001b[38;5;124;43m \u001b[39;49m\u001b[38;5;124;43m%\u001b[39;49m\u001b[38;5;124;43mB \u001b[39;49m\u001b[38;5;124;43m%\u001b[39;49m\u001b[38;5;124;43mY\u001b[39;49m\u001b[38;5;124;43m\"\u001b[39;49m\u001b[43m)\u001b[49m\n\u001b[1;32m     24\u001b[0m \u001b[38;5;28;01melif\u001b[39;00m line\u001b[38;5;241m.\u001b[39mstartswith(\u001b[38;5;124m\"\u001b[39m\u001b[38;5;124mYEA:\u001b[39m\u001b[38;5;124m\"\u001b[39m):\n\u001b[1;32m     25\u001b[0m     entry[\u001b[38;5;124m'\u001b[39m\u001b[38;5;124mYEA\u001b[39m\u001b[38;5;124m'\u001b[39m] \u001b[38;5;241m=\u001b[39m \u001b[38;5;28mint\u001b[39m(line\u001b[38;5;241m.\u001b[39mstrip()\u001b[38;5;241m.\u001b[39msplit(\u001b[38;5;124m'\u001b[39m\u001b[38;5;124m:\u001b[39m\u001b[38;5;124m'\u001b[39m)[\u001b[38;5;241m1\u001b[39m])  \u001b[38;5;66;03m# Year (int)\u001b[39;00m\n",
      "File \u001b[0;32m~/miniconda3/lib/python3.12/site-packages/pandas/core/tools/datetimes.py:1101\u001b[0m, in \u001b[0;36mto_datetime\u001b[0;34m(arg, errors, dayfirst, yearfirst, utc, format, exact, unit, infer_datetime_format, origin, cache)\u001b[0m\n\u001b[1;32m   1099\u001b[0m         result \u001b[38;5;241m=\u001b[39m convert_listlike(argc, \u001b[38;5;28mformat\u001b[39m)\n\u001b[1;32m   1100\u001b[0m \u001b[38;5;28;01melse\u001b[39;00m:\n\u001b[0;32m-> 1101\u001b[0m     result \u001b[38;5;241m=\u001b[39m \u001b[43mconvert_listlike\u001b[49m\u001b[43m(\u001b[49m\u001b[43mnp\u001b[49m\u001b[38;5;241;43m.\u001b[39;49m\u001b[43marray\u001b[49m\u001b[43m(\u001b[49m\u001b[43m[\u001b[49m\u001b[43marg\u001b[49m\u001b[43m]\u001b[49m\u001b[43m)\u001b[49m\u001b[43m,\u001b[49m\u001b[43m \u001b[49m\u001b[38;5;28;43mformat\u001b[39;49m\u001b[43m)\u001b[49m[\u001b[38;5;241m0\u001b[39m]\n\u001b[1;32m   1102\u001b[0m     \u001b[38;5;28;01mif\u001b[39;00m \u001b[38;5;28misinstance\u001b[39m(arg, \u001b[38;5;28mbool\u001b[39m) \u001b[38;5;129;01mand\u001b[39;00m \u001b[38;5;28misinstance\u001b[39m(result, np\u001b[38;5;241m.\u001b[39mbool_):\n\u001b[1;32m   1103\u001b[0m         result \u001b[38;5;241m=\u001b[39m \u001b[38;5;28mbool\u001b[39m(result)  \u001b[38;5;66;03m# TODO: avoid this kludge.\u001b[39;00m\n",
      "File \u001b[0;32m~/miniconda3/lib/python3.12/site-packages/pandas/core/tools/datetimes.py:433\u001b[0m, in \u001b[0;36m_convert_listlike_datetimes\u001b[0;34m(arg, format, name, utc, unit, errors, dayfirst, yearfirst, exact)\u001b[0m\n\u001b[1;32m    431\u001b[0m \u001b[38;5;66;03m# `format` could be inferred, or user didn't ask for mixed-format parsing.\u001b[39;00m\n\u001b[1;32m    432\u001b[0m \u001b[38;5;28;01mif\u001b[39;00m \u001b[38;5;28mformat\u001b[39m \u001b[38;5;129;01mis\u001b[39;00m \u001b[38;5;129;01mnot\u001b[39;00m \u001b[38;5;28;01mNone\u001b[39;00m \u001b[38;5;129;01mand\u001b[39;00m \u001b[38;5;28mformat\u001b[39m \u001b[38;5;241m!=\u001b[39m \u001b[38;5;124m\"\u001b[39m\u001b[38;5;124mmixed\u001b[39m\u001b[38;5;124m\"\u001b[39m:\n\u001b[0;32m--> 433\u001b[0m     \u001b[38;5;28;01mreturn\u001b[39;00m \u001b[43m_array_strptime_with_fallback\u001b[49m\u001b[43m(\u001b[49m\u001b[43marg\u001b[49m\u001b[43m,\u001b[49m\u001b[43m \u001b[49m\u001b[43mname\u001b[49m\u001b[43m,\u001b[49m\u001b[43m \u001b[49m\u001b[43mutc\u001b[49m\u001b[43m,\u001b[49m\u001b[43m \u001b[49m\u001b[38;5;28;43mformat\u001b[39;49m\u001b[43m,\u001b[49m\u001b[43m \u001b[49m\u001b[43mexact\u001b[49m\u001b[43m,\u001b[49m\u001b[43m \u001b[49m\u001b[43merrors\u001b[49m\u001b[43m)\u001b[49m\n\u001b[1;32m    435\u001b[0m result, tz_parsed \u001b[38;5;241m=\u001b[39m objects_to_datetime64(\n\u001b[1;32m    436\u001b[0m     arg,\n\u001b[1;32m    437\u001b[0m     dayfirst\u001b[38;5;241m=\u001b[39mdayfirst,\n\u001b[0;32m   (...)\u001b[0m\n\u001b[1;32m    441\u001b[0m     allow_object\u001b[38;5;241m=\u001b[39m\u001b[38;5;28;01mTrue\u001b[39;00m,\n\u001b[1;32m    442\u001b[0m )\n\u001b[1;32m    444\u001b[0m \u001b[38;5;28;01mif\u001b[39;00m tz_parsed \u001b[38;5;129;01mis\u001b[39;00m \u001b[38;5;129;01mnot\u001b[39;00m \u001b[38;5;28;01mNone\u001b[39;00m:\n\u001b[1;32m    445\u001b[0m     \u001b[38;5;66;03m# We can take a shortcut since the datetime64 numpy array\u001b[39;00m\n\u001b[1;32m    446\u001b[0m     \u001b[38;5;66;03m# is in UTC\u001b[39;00m\n",
      "File \u001b[0;32m~/miniconda3/lib/python3.12/site-packages/pandas/core/tools/datetimes.py:467\u001b[0m, in \u001b[0;36m_array_strptime_with_fallback\u001b[0;34m(arg, name, utc, fmt, exact, errors)\u001b[0m\n\u001b[1;32m    456\u001b[0m \u001b[38;5;28;01mdef\u001b[39;00m \u001b[38;5;21m_array_strptime_with_fallback\u001b[39m(\n\u001b[1;32m    457\u001b[0m     arg,\n\u001b[1;32m    458\u001b[0m     name,\n\u001b[0;32m   (...)\u001b[0m\n\u001b[1;32m    462\u001b[0m     errors: \u001b[38;5;28mstr\u001b[39m,\n\u001b[1;32m    463\u001b[0m ) \u001b[38;5;241m-\u001b[39m\u001b[38;5;241m>\u001b[39m Index:\n\u001b[1;32m    464\u001b[0m \u001b[38;5;250m    \u001b[39m\u001b[38;5;124;03m\"\"\"\u001b[39;00m\n\u001b[1;32m    465\u001b[0m \u001b[38;5;124;03m    Call array_strptime, with fallback behavior depending on 'errors'.\u001b[39;00m\n\u001b[1;32m    466\u001b[0m \u001b[38;5;124;03m    \"\"\"\u001b[39;00m\n\u001b[0;32m--> 467\u001b[0m     result, tz_out \u001b[38;5;241m=\u001b[39m \u001b[43marray_strptime\u001b[49m\u001b[43m(\u001b[49m\u001b[43marg\u001b[49m\u001b[43m,\u001b[49m\u001b[43m \u001b[49m\u001b[43mfmt\u001b[49m\u001b[43m,\u001b[49m\u001b[43m \u001b[49m\u001b[43mexact\u001b[49m\u001b[38;5;241;43m=\u001b[39;49m\u001b[43mexact\u001b[49m\u001b[43m,\u001b[49m\u001b[43m \u001b[49m\u001b[43merrors\u001b[49m\u001b[38;5;241;43m=\u001b[39;49m\u001b[43merrors\u001b[49m\u001b[43m,\u001b[49m\u001b[43m \u001b[49m\u001b[43mutc\u001b[49m\u001b[38;5;241;43m=\u001b[39;49m\u001b[43mutc\u001b[49m\u001b[43m)\u001b[49m\n\u001b[1;32m    468\u001b[0m     \u001b[38;5;28;01mif\u001b[39;00m tz_out \u001b[38;5;129;01mis\u001b[39;00m \u001b[38;5;129;01mnot\u001b[39;00m \u001b[38;5;28;01mNone\u001b[39;00m:\n\u001b[1;32m    469\u001b[0m         unit \u001b[38;5;241m=\u001b[39m np\u001b[38;5;241m.\u001b[39mdatetime_data(result\u001b[38;5;241m.\u001b[39mdtype)[\u001b[38;5;241m0\u001b[39m]\n",
      "File \u001b[0;32mstrptime.pyx:501\u001b[0m, in \u001b[0;36mpandas._libs.tslibs.strptime.array_strptime\u001b[0;34m()\u001b[0m\n",
      "File \u001b[0;32mstrptime.pyx:451\u001b[0m, in \u001b[0;36mpandas._libs.tslibs.strptime.array_strptime\u001b[0;34m()\u001b[0m\n",
      "File \u001b[0;32mstrptime.pyx:583\u001b[0m, in \u001b[0;36mpandas._libs.tslibs.strptime._parse_with_format\u001b[0;34m()\u001b[0m\n",
      "\u001b[0;31mValueError\u001b[0m: time data \"23\" doesn't match format \"%H:%M, %d %B %Y\", at position 0. You might want to try:\n    - passing `format` if your strings have a consistent format;\n    - passing `format='ISO8601'` if your strings are all ISO8601 but not necessarily in exactly the same format;\n    - passing `format='mixed'`, and the format will be inferred for each element individually. You might want to use `dayfirst` alongside this."
     ]
    }
   ],
   "source": [
    "import pygraphviz as pgv\n",
    "import pandas as pd\n",
    "\n",
    "format_str = \"%H:%M, %d %B %Y\"  # Define the expected format\n",
    "\n",
    "# Function to read the file and extract SRC, TGT, VOT, DAT, YEA, RES, TXT\n",
    "def extract_edges_from_file(file_path):\n",
    "    edges = []\n",
    "    with open(file_path, 'r') as f:\n",
    "        entry = {}\n",
    "        for line in f:\n",
    "            # Read the lines and capture relevant fields\n",
    "            if line.startswith(\"SRC:\"):\n",
    "                entry['SRC'] = line.strip().split(':')[1]\n",
    "            elif line.startswith(\"TGT:\"):\n",
    "                entry['TGT'] = line.strip().split(':')[1]\n",
    "            elif line.startswith(\"VOT:\"):\n",
    "                entry['VOT'] = int(line.strip().split(':')[1])  # Voting value (int)\n",
    "            elif line.startswith(\"DAT:\"):\n",
    "                # Handle datetime parsing with the year included\n",
    "                date_str = line.strip().split(':')[1]\n",
    "                year = entry.get('YEA', None)\n",
    "                if year:\n",
    "                    # Combine the date and year\n",
    "                    combined_date_str = f\"{date_str} {year}\"\n",
    "                    try:\n",
    "                        # Parse the combined string into datetime\n",
    "                        entry['DAT'] = pd.to_datetime(combined_date_str, format=\"%H:%M, %d %B %Y\")\n",
    "                    except ValueError as e:\n",
    "                        print(f\"Error parsing date: {line.strip()} with year: {year}\")\n",
    "                        continue  # Skip the line if the date is not parsable\n",
    "                else:\n",
    "                    continue  # If there's no year, skip this entry\n",
    "            elif line.startswith(\"YEA:\"):\n",
    "                entry['YEA'] = int(line.strip().split(':')[1])  # Year (int)\n",
    "            elif line.startswith(\"RES:\"):\n",
    "                entry['RES'] = line.strip().split(':')[1]  # Result (string)\n",
    "            elif line.startswith(\"TXT:\"):\n",
    "                entry['TXT'] = line.strip().split(':')[1]  # Text (string)\n",
    "            \n",
    "            # If all necessary fields are collected, add them as an edge\n",
    "            if 'SRC' in entry and 'TGT' in entry and 'VOT' in entry and 'DAT' in entry and 'YEA' in entry and 'RES' in entry and 'TXT' in entry:\n",
    "                # Store edge data as tuple (SRC, TGT, weight, date, year, result)\n",
    "                edges.append((entry['SRC'], entry['TGT'], entry['VOT'], entry['DAT'], entry['YEA'], entry['RES'], entry['TXT']))\n",
    "                entry = {}  # Reset entry for the next block of data\n",
    "    return edges\n",
    "\n",
    "# Path to your trimmed file\n",
    "file_path = 'wiki-RfA_trimmed.txt'\n",
    "\n",
    "# Create a Graphviz graph (Directed)\n",
    "G = pgv.AGraph(strict=False, directed=True)\n",
    "G_pos = pgv.AGraph(strict=False, directed=True)\n",
    "G_neg = pgv.AGraph(strict=False, directed=True)\n",
    "G_neu  = pgv.AGraph(strict=False, directed=True)\n",
    "\n",
    "# Extract edges (SRC, TGT) and associated metadata\n",
    "edges = extract_edges_from_file(file_path)\n",
    "\n",
    "# Add edges to the graph with metadata as attributes\n",
    "for src, tgt, vot, dat, yea, res, txt in edges:\n",
    "    # Ensure SRC and TGT are valid non-empty strings\n",
    "    if not src or not tgt:\n",
    "        continue  # Skip empty nodes\n",
    "    \n",
    "    # Handle special characters or sanitize node names\n",
    "    src = str(src).encode('utf-8', 'ignore').decode('utf-8')\n",
    "    tgt = str(tgt).encode('utf-8', 'ignore').decode('utf-8')\n",
    "    txt = str(txt).encode('utf-8', 'ignore').decode('utf-8')\n",
    "    \n",
    "    # Add edge to the main graph (G)\n",
    "    G.add_edge(src, tgt, weight=vot, date=dat, year=yea, result=res, text=txt)\n",
    "    \n",
    "    # Categorize the edge based on weight and add it to corresponding graph\n",
    "    if vot == 1:\n",
    "        G_pos.add_edge(src, tgt, weight=vot, date=dat, year=yea, result=res, text=txt)\n",
    "    elif vot == -1:\n",
    "        G_neg.add_edge(src, tgt, weight=vot, date=dat, year=yea, result=res, text=txt)\n",
    "    elif vot == 0:\n",
    "        G_neu.add_edge(src, tgt, weight=vot, date=dat, year=yea, result=res, text=txt)\n",
    "\n",
    "# Print the number of edges for each graph\n",
    "print(f\"Total edges in G: {G.number_of_edges()}\")\n",
    "print(f\"Total edges in G_pos (Positive): {G_pos.number_of_edges()}\")\n",
    "print(f\"Total edges in G_neg (Negative): {G_neg.number_of_edges()}\")\n",
    "print(f\"Total edges in G_neu (Neutral): {G_neu.number_of_edges()}\")\n"
   ]
  },
  {
   "cell_type": "code",
   "execution_count": 54,
   "metadata": {},
   "outputs": [
    {
     "name": "stdout",
     "output_type": "stream",
     "text": [
      "Positive Graph - Average Degree: 17.67\n",
      "Positive Graph - Average Path Length: Not defined for disconnected graph\n"
     ]
    },
    {
     "ename": "NetworkXNotImplemented",
     "evalue": "not implemented for multigraph type",
     "output_type": "error",
     "traceback": [
      "\u001b[0;31m---------------------------------------------------------------------------\u001b[0m",
      "\u001b[0;31mNetworkXNotImplemented\u001b[0m                    Traceback (most recent call last)",
      "Cell \u001b[0;32mIn[54], line 57\u001b[0m\n\u001b[1;32m     54\u001b[0m     plt\u001b[38;5;241m.\u001b[39mshow()\n\u001b[1;32m     56\u001b[0m \u001b[38;5;66;03m# Analyze Positive, Negative, and Neutral graphs\u001b[39;00m\n\u001b[0;32m---> 57\u001b[0m \u001b[43manalyze_graph\u001b[49m\u001b[43m(\u001b[49m\u001b[43mG_pos\u001b[49m\u001b[43m,\u001b[49m\u001b[43m \u001b[49m\u001b[38;5;124;43m\"\u001b[39;49m\u001b[38;5;124;43mPositive Graph\u001b[39;49m\u001b[38;5;124;43m\"\u001b[39;49m\u001b[43m)\u001b[49m\n\u001b[1;32m     58\u001b[0m analyze_graph(G_neg, \u001b[38;5;124m\"\u001b[39m\u001b[38;5;124mNegative Graph\u001b[39m\u001b[38;5;124m\"\u001b[39m)\n\u001b[1;32m     59\u001b[0m analyze_graph(G_neu, \u001b[38;5;124m\"\u001b[39m\u001b[38;5;124mNeutral Graph\u001b[39m\u001b[38;5;124m\"\u001b[39m)\n",
      "Cell \u001b[0;32mIn[54], line 45\u001b[0m, in \u001b[0;36manalyze_graph\u001b[0;34m(G, title)\u001b[0m\n\u001b[1;32m     42\u001b[0m \u001b[38;5;66;03m# Clustering Coefficient for directed graphs\u001b[39;00m\n\u001b[1;32m     43\u001b[0m \u001b[38;5;28;01mif\u001b[39;00m G\u001b[38;5;241m.\u001b[39mis_directed():\n\u001b[1;32m     44\u001b[0m     \u001b[38;5;66;03m# Directed Clustering Coefficient (Transitivity for directed graphs)\u001b[39;00m\n\u001b[0;32m---> 45\u001b[0m     clustering_coeff \u001b[38;5;241m=\u001b[39m \u001b[43mnx\u001b[49m\u001b[38;5;241;43m.\u001b[39;49m\u001b[43mtransitivity\u001b[49m\u001b[43m(\u001b[49m\u001b[43mG\u001b[49m\u001b[43m)\u001b[49m\n\u001b[1;32m     46\u001b[0m \u001b[38;5;28;01melse\u001b[39;00m:\n\u001b[1;32m     47\u001b[0m     \u001b[38;5;66;03m# For undirected graphs, you can use the average_clustering function\u001b[39;00m\n\u001b[1;32m     48\u001b[0m     clustering_coeff \u001b[38;5;241m=\u001b[39m nx\u001b[38;5;241m.\u001b[39maverage_clustering(G)\n",
      "File \u001b[0;32m~/miniconda3/lib/python3.12/site-packages/networkx/utils/backends.py:412\u001b[0m, in \u001b[0;36m_dispatch.__call__\u001b[0;34m(self, backend, *args, **kwargs)\u001b[0m\n\u001b[1;32m    409\u001b[0m \u001b[38;5;28;01mdef\u001b[39;00m \u001b[38;5;21m__call__\u001b[39m(\u001b[38;5;28mself\u001b[39m, \u001b[38;5;241m/\u001b[39m, \u001b[38;5;241m*\u001b[39margs, backend\u001b[38;5;241m=\u001b[39m\u001b[38;5;28;01mNone\u001b[39;00m, \u001b[38;5;241m*\u001b[39m\u001b[38;5;241m*\u001b[39mkwargs):\n\u001b[1;32m    410\u001b[0m     \u001b[38;5;28;01mif\u001b[39;00m \u001b[38;5;129;01mnot\u001b[39;00m backends:\n\u001b[1;32m    411\u001b[0m         \u001b[38;5;66;03m# Fast path if no backends are installed\u001b[39;00m\n\u001b[0;32m--> 412\u001b[0m         \u001b[38;5;28;01mreturn\u001b[39;00m \u001b[38;5;28;43mself\u001b[39;49m\u001b[38;5;241;43m.\u001b[39;49m\u001b[43morig_func\u001b[49m\u001b[43m(\u001b[49m\u001b[38;5;241;43m*\u001b[39;49m\u001b[43margs\u001b[49m\u001b[43m,\u001b[49m\u001b[43m \u001b[49m\u001b[38;5;241;43m*\u001b[39;49m\u001b[38;5;241;43m*\u001b[39;49m\u001b[43mkwargs\u001b[49m\u001b[43m)\u001b[49m\n\u001b[1;32m    414\u001b[0m     \u001b[38;5;66;03m# Use `backend_name` in this function instead of `backend`\u001b[39;00m\n\u001b[1;32m    415\u001b[0m     backend_name \u001b[38;5;241m=\u001b[39m backend\n",
      "File \u001b[0;32m~/miniconda3/lib/python3.12/site-packages/networkx/algorithms/cluster.py:457\u001b[0m, in \u001b[0;36mtransitivity\u001b[0;34m(G)\u001b[0m\n\u001b[1;32m    427\u001b[0m \u001b[38;5;129m@nx\u001b[39m\u001b[38;5;241m.\u001b[39m_dispatch\n\u001b[1;32m    428\u001b[0m \u001b[38;5;28;01mdef\u001b[39;00m \u001b[38;5;21mtransitivity\u001b[39m(G):\n\u001b[1;32m    429\u001b[0m \u001b[38;5;250m    \u001b[39m\u001b[38;5;124mr\u001b[39m\u001b[38;5;124;03m\"\"\"Compute graph transitivity, the fraction of all possible triangles\u001b[39;00m\n\u001b[1;32m    430\u001b[0m \u001b[38;5;124;03m    present in G.\u001b[39;00m\n\u001b[1;32m    431\u001b[0m \n\u001b[0;32m   (...)\u001b[0m\n\u001b[1;32m    454\u001b[0m \u001b[38;5;124;03m    1.0\u001b[39;00m\n\u001b[1;32m    455\u001b[0m \u001b[38;5;124;03m    \"\"\"\u001b[39;00m\n\u001b[1;32m    456\u001b[0m     triangles_contri \u001b[38;5;241m=\u001b[39m [\n\u001b[0;32m--> 457\u001b[0m         (t, d \u001b[38;5;241m*\u001b[39m (d \u001b[38;5;241m-\u001b[39m \u001b[38;5;241m1\u001b[39m)) \u001b[38;5;28;01mfor\u001b[39;00m v, d, t, _ \u001b[38;5;129;01min\u001b[39;00m \u001b[43m_triangles_and_degree_iter\u001b[49m\u001b[43m(\u001b[49m\u001b[43mG\u001b[49m\u001b[43m)\u001b[49m\n\u001b[1;32m    458\u001b[0m     ]\n\u001b[1;32m    459\u001b[0m     \u001b[38;5;66;03m# If the graph is empty\u001b[39;00m\n\u001b[1;32m    460\u001b[0m     \u001b[38;5;28;01mif\u001b[39;00m \u001b[38;5;28mlen\u001b[39m(triangles_contri) \u001b[38;5;241m==\u001b[39m \u001b[38;5;241m0\u001b[39m:\n",
      "File \u001b[0;32m<class 'networkx.utils.decorators.argmap'> compilation 39:3\u001b[0m, in \u001b[0;36margmap__triangles_and_degree_iter_36\u001b[0;34m(G, nodes)\u001b[0m\n\u001b[1;32m      1\u001b[0m \u001b[38;5;28;01mimport\u001b[39;00m \u001b[38;5;21;01mbz2\u001b[39;00m\n\u001b[1;32m      2\u001b[0m \u001b[38;5;28;01mimport\u001b[39;00m \u001b[38;5;21;01mcollections\u001b[39;00m\n\u001b[0;32m----> 3\u001b[0m \u001b[38;5;28;01mimport\u001b[39;00m \u001b[38;5;21;01mgzip\u001b[39;00m\n\u001b[1;32m      4\u001b[0m \u001b[38;5;28;01mimport\u001b[39;00m \u001b[38;5;21;01minspect\u001b[39;00m\n\u001b[1;32m      5\u001b[0m \u001b[38;5;28;01mimport\u001b[39;00m \u001b[38;5;21;01mitertools\u001b[39;00m\n",
      "File \u001b[0;32m~/miniconda3/lib/python3.12/site-packages/networkx/utils/decorators.py:90\u001b[0m, in \u001b[0;36mnot_implemented_for.<locals>._not_implemented_for\u001b[0;34m(g)\u001b[0m\n\u001b[1;32m     86\u001b[0m \u001b[38;5;28;01mdef\u001b[39;00m \u001b[38;5;21m_not_implemented_for\u001b[39m(g):\n\u001b[1;32m     87\u001b[0m     \u001b[38;5;28;01mif\u001b[39;00m (mval \u001b[38;5;129;01mis\u001b[39;00m \u001b[38;5;28;01mNone\u001b[39;00m \u001b[38;5;129;01mor\u001b[39;00m mval \u001b[38;5;241m==\u001b[39m g\u001b[38;5;241m.\u001b[39mis_multigraph()) \u001b[38;5;129;01mand\u001b[39;00m (\n\u001b[1;32m     88\u001b[0m         dval \u001b[38;5;129;01mis\u001b[39;00m \u001b[38;5;28;01mNone\u001b[39;00m \u001b[38;5;129;01mor\u001b[39;00m dval \u001b[38;5;241m==\u001b[39m g\u001b[38;5;241m.\u001b[39mis_directed()\n\u001b[1;32m     89\u001b[0m     ):\n\u001b[0;32m---> 90\u001b[0m         \u001b[38;5;28;01mraise\u001b[39;00m nx\u001b[38;5;241m.\u001b[39mNetworkXNotImplemented(errmsg)\n\u001b[1;32m     92\u001b[0m     \u001b[38;5;28;01mreturn\u001b[39;00m g\n",
      "\u001b[0;31mNetworkXNotImplemented\u001b[0m: not implemented for multigraph type"
     ]
    },
    {
     "data": {
      "image/png": "[encoded data removed]",
      "text/plain": [
       "<Figure size 1000x600 with 1 Axes>"
      ]
     },
     "metadata": {},
     "output_type": "display_data"
    }
   ],
   "source": [
    "import pygraphviz as pgv\n",
    "import networkx as nx\n",
    "import matplotlib.pyplot as plt\n",
    "\n",
    "# Function to analyze graph\n",
    "def analyze_graph(G, title=\"Graph Analysis\"):\n",
    "    # Convert AGraph to NetworkX graph (if necessary)\n",
    "    if isinstance(G, pgv.AGraph):\n",
    "        G = nx.nx_agraph.from_agraph(G)  # Convert to NetworkX graph\n",
    "    \n",
    "    # Check if the graph is empty\n",
    "    if len(G.nodes()) == 0:\n",
    "        print(f\"{title} - Graph is empty!\")\n",
    "        return\n",
    "\n",
    "    # Degree Distribution Plot\n",
    "    degrees = [G.degree(n) for n in G.nodes()]\n",
    "    if not degrees:  # If no degrees, exit\n",
    "        print(f\"{title} - No degrees to plot!\")\n",
    "        return\n",
    "    \n",
    "    plt.figure(figsize=(10, 6))\n",
    "    plt.hist(degrees, bins=range(min(degrees), max(degrees) + 1), color='blue', alpha=0.7)\n",
    "    plt.title(f\"{title} - Degree Distribution\")\n",
    "    plt.xlabel(\"Degree\")\n",
    "    plt.ylabel(\"Number of Nodes\")\n",
    "    \n",
    "    avg_degree = sum(degrees) / len(degrees)\n",
    "    plt.axvline(avg_degree, color='red', linestyle='--', label=f\"Avg Degree: {avg_degree:.2f}\")\n",
    "    plt.legend()\n",
    "\n",
    "    # Average Degree\n",
    "    print(f\"{title} - Average Degree: {avg_degree:.2f}\")\n",
    "\n",
    "    # Average Path Length (using weak connectivity for directed graphs)\n",
    "    if nx.is_weakly_connected(G):\n",
    "        avg_path_length = nx.average_shortest_path_length(G)\n",
    "        print(f\"{title} - Average Path Length: {avg_path_length:.2f}\")\n",
    "    else:\n",
    "        print(f\"{title} - Average Path Length: Not defined for disconnected graph\")\n",
    "\n",
    "    # Clustering Coefficient for directed graphs\n",
    "    if G.is_directed():\n",
    "        # Directed Clustering Coefficient (Transitivity for directed graphs)\n",
    "        clustering_coeff = nx.transitivity(G)\n",
    "    else:\n",
    "        # For undirected graphs, you can use the average_clustering function\n",
    "        clustering_coeff = nx.average_clustering(G)\n",
    "\n",
    "    print(f\"{title} - Average Clustering Coefficient: {clustering_coeff:.2f}\")\n",
    "\n",
    "    # Show the plot\n",
    "    plt.tight_layout()\n",
    "    plt.show()\n",
    "\n",
    "# Analyze Positive, Negative, and Neutral graphs\n",
    "analyze_graph(G_pos, \"Positive Graph\")\n",
    "analyze_graph(G_neg, \"Negative Graph\")\n",
    "analyze_graph(G_neu, \"Neutral Graph\")\n"
   ]
  },
  {
   "cell_type": "code",
   "execution_count": 50,
   "metadata": {},
   "outputs": [
    {
     "name": "stdout",
     "output_type": "stream",
     "text": [
      "4\n",
      "3\n",
      "8\n",
      "1\n"
     ]
    }
   ],
   "source": [
    "# Assuming G_pos is your pygraphviz AGraph object\n",
    "G_pos_nx = nx.nx_agraph.from_agraph(G_pos)\n",
    "\n",
    "# Now perform weakly connected components analysis\n",
    "weakly_connected_components_pos = list(nx.weakly_connected_components(G_pos_nx))\n",
    "print(len(weakly_connected_components_pos))\n",
    "\n",
    "G_neg_nx = nx.nx_agraph.from_agraph(G_neg)\n",
    "\n",
    "# Now perform weakly connected components analysis\n",
    "weakly_connected_components_neg = list(nx.weakly_connected_components(G_neg_nx))\n",
    "print(len(weakly_connected_components_neg))\n",
    "\n",
    "G_neu_nx = nx.nx_agraph.from_agraph(G_neu)\n",
    "\n",
    "# Now perform weakly connected components analysis\n",
    "weakly_connected_components_neu = list(nx.weakly_connected_components(G_neu_nx))\n",
    "print(len(weakly_connected_components_neu))\n",
    "\n",
    "G_nx = nx.nx_agraph.from_agraph(G)\n",
    "\n",
    "# Now perform weakly connected components analysis\n",
    "weakly_connected_components = list(nx.weakly_connected_components(G_nx))\n",
    "print(len(weakly_connected_components))\n",
    "\n"
   ]
  },
  {
   "cell_type": "code",
   "execution_count": null,
   "metadata": {},
   "outputs": [],
   "source": []
  },
  {
   "cell_type": "code",
   "execution_count": 31,
   "metadata": {},
   "outputs": [],
   "source": [
    "# Save the graph structure in GraphML format\n",
    "output_file = \"graph_output.graphml\"\n",
    "output_file_pos= \"graph_output_pos.graphml\"\n",
    "output_file_neg= \"graph_output_neg.graphml\"\n",
    "output_file_neu= \"graph_output_neu.graphml\"\n",
    "G.write(output_file)\n",
    "G_pos.write(output_file_pos)\n",
    "G_neg.write(output_file_neg)\n",
    "G_neu.write(output_file_neu)\n"
   ]
  },
  {
   "cell_type": "code",
   "execution_count": null,
   "metadata": {
    "vscode": {
     "languageId": "shellscript"
    }
   },
   "outputs": [],
   "source": []
  }
 ],
 "metadata": {
  "kernelspec": {
   "display_name": "base",
   "language": "python",
   "name": "python3"
  },
  "language_info": {
   "codemirror_mode": {
    "name": "ipython",
    "version": 3
   },
   "file_extension": ".py",
   "mimetype": "text/x-python",
   "name": "python",
   "nbconvert_exporter": "python",
   "pygments_lexer": "ipython3",
   "version": "3.12.7"
  }
 },
 "nbformat": 4,
 "nbformat_minor": 2
}
