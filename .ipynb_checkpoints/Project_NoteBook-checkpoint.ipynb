{
 "cells": [
  {
   "cell_type": "code",
   "execution_count": 1,
   "id": "325970e9-cb2e-4fb4-9ece-10af0733e003",
   "metadata": {},
   "outputs": [],
   "source": [
    "import pandas as pd\n",
    "import numpy as np\n",
    "import networkx as nx\n",
    "\n",
    "import spacy\n",
    "from spacy import displacy\n",
    "\n",
    "import matplotlib.pyplot as plt\n"
   ]
  },
  {
   "cell_type": "code",
   "execution_count": 2,
   "id": "8564e88f-45ad-4242-9a15-38e18a914f34",
   "metadata": {},
   "outputs": [],
   "source": [
    "rfaSet = 'Data/wiki_RfA_2010_2013.csv'"
   ]
  },
  {
   "cell_type": "code",
   "execution_count": 5,
   "id": "8eeb5ec4-2a07-42e6-a359-7dc02ee272e8",
   "metadata": {},
   "outputs": [
    {
     "data": {
      "text/html": [
       "<div>\n",
       "<style scoped>\n",
       "    .dataframe tbody tr th:only-of-type {\n",
       "        vertical-align: middle;\n",
       "    }\n",
       "\n",
       "    .dataframe tbody tr th {\n",
       "        vertical-align: top;\n",
       "    }\n",
       "\n",
       "    .dataframe thead th {\n",
       "        text-align: right;\n",
       "    }\n",
       "</style>\n",
       "<table border=\"1\" class=\"dataframe\">\n",
       "  <thead>\n",
       "    <tr style=\"text-align: right;\">\n",
       "      <th></th>\n",
       "      <th>SRC</th>\n",
       "      <th>TGT</th>\n",
       "      <th>VOT</th>\n",
       "      <th>RES</th>\n",
       "      <th>YEA</th>\n",
       "      <th>DAT</th>\n",
       "      <th>TXT</th>\n",
       "    </tr>\n",
       "  </thead>\n",
       "  <tbody>\n",
       "    <tr>\n",
       "      <th>0</th>\n",
       "      <td>Steel1943</td>\n",
       "      <td>BDD</td>\n",
       "      <td>1</td>\n",
       "      <td>1</td>\n",
       "      <td>2013</td>\n",
       "      <td>23:13, 19 April 2013</td>\n",
       "      <td>'''Support''' as co-nom.</td>\n",
       "    </tr>\n",
       "    <tr>\n",
       "      <th>1</th>\n",
       "      <td>Cuchullain</td>\n",
       "      <td>BDD</td>\n",
       "      <td>1</td>\n",
       "      <td>1</td>\n",
       "      <td>2013</td>\n",
       "      <td>01:04, 20 April 2013</td>\n",
       "      <td>'''Support''' as nominator.--</td>\n",
       "    </tr>\n",
       "    <tr>\n",
       "      <th>2</th>\n",
       "      <td>INeverCry</td>\n",
       "      <td>BDD</td>\n",
       "      <td>1</td>\n",
       "      <td>1</td>\n",
       "      <td>2013</td>\n",
       "      <td>23:43, 19 April 2013</td>\n",
       "      <td>'''Support''' per noms.</td>\n",
       "    </tr>\n",
       "    <tr>\n",
       "      <th>3</th>\n",
       "      <td>Cncmaster</td>\n",
       "      <td>BDD</td>\n",
       "      <td>1</td>\n",
       "      <td>1</td>\n",
       "      <td>2013</td>\n",
       "      <td>00:11, 20 April 2013</td>\n",
       "      <td>'''Support''' per noms. BDD is a strong contri...</td>\n",
       "    </tr>\n",
       "    <tr>\n",
       "      <th>4</th>\n",
       "      <td>Miniapolis</td>\n",
       "      <td>BDD</td>\n",
       "      <td>1</td>\n",
       "      <td>1</td>\n",
       "      <td>2013</td>\n",
       "      <td>00:56, 20 April 2013</td>\n",
       "      <td>'''Support''', with great pleasure. I work wit...</td>\n",
       "    </tr>\n",
       "    <tr>\n",
       "      <th>...</th>\n",
       "      <td>...</td>\n",
       "      <td>...</td>\n",
       "      <td>...</td>\n",
       "      <td>...</td>\n",
       "      <td>...</td>\n",
       "      <td>...</td>\n",
       "      <td>...</td>\n",
       "    </tr>\n",
       "    <tr>\n",
       "      <th>32567</th>\n",
       "      <td>Atama</td>\n",
       "      <td>ZooPro</td>\n",
       "      <td>-1</td>\n",
       "      <td>-1</td>\n",
       "      <td>2010</td>\n",
       "      <td>18:17, 22 February 2010</td>\n",
       "      <td>'''Oppose''' - Per Polargeo, and per [http://e...</td>\n",
       "    </tr>\n",
       "    <tr>\n",
       "      <th>32568</th>\n",
       "      <td>Bradjamesbrown</td>\n",
       "      <td>ZooPro</td>\n",
       "      <td>-1</td>\n",
       "      <td>-1</td>\n",
       "      <td>2010</td>\n",
       "      <td>18:18, 22 February 2010</td>\n",
       "      <td>'''Oppose''' per SilkTork's diff above. Assert...</td>\n",
       "    </tr>\n",
       "    <tr>\n",
       "      <th>32569</th>\n",
       "      <td>Ottawa4ever</td>\n",
       "      <td>ZooPro</td>\n",
       "      <td>0</td>\n",
       "      <td>-1</td>\n",
       "      <td>2010</td>\n",
       "      <td>18:11, 22 February 2010</td>\n",
       "      <td>'''Neutral''' Not to pile on, neutral. I canno...</td>\n",
       "    </tr>\n",
       "    <tr>\n",
       "      <th>32570</th>\n",
       "      <td>Tryptofish</td>\n",
       "      <td>ZooPro</td>\n",
       "      <td>0</td>\n",
       "      <td>-1</td>\n",
       "      <td>2010</td>\n",
       "      <td>17:58, 22 February 2010</td>\n",
       "      <td>'''Neutral''' I've interacted with this editor...</td>\n",
       "    </tr>\n",
       "    <tr>\n",
       "      <th>32571</th>\n",
       "      <td>The High Fin Sperm Whale</td>\n",
       "      <td>ZooPro</td>\n",
       "      <td>0</td>\n",
       "      <td>-1</td>\n",
       "      <td>2010</td>\n",
       "      <td>18:34, 22 February 2010</td>\n",
       "      <td>'''Neutral''' Although we do need more admins ...</td>\n",
       "    </tr>\n",
       "  </tbody>\n",
       "</table>\n",
       "<p>32572 rows × 7 columns</p>\n",
       "</div>"
      ],
      "text/plain": [
       "                            SRC     TGT  VOT  RES   YEA  \\\n",
       "0                     Steel1943     BDD    1    1  2013   \n",
       "1                    Cuchullain     BDD    1    1  2013   \n",
       "2                     INeverCry     BDD    1    1  2013   \n",
       "3                     Cncmaster     BDD    1    1  2013   \n",
       "4                    Miniapolis     BDD    1    1  2013   \n",
       "...                         ...     ...  ...  ...   ...   \n",
       "32567                     Atama  ZooPro   -1   -1  2010   \n",
       "32568            Bradjamesbrown  ZooPro   -1   -1  2010   \n",
       "32569               Ottawa4ever  ZooPro    0   -1  2010   \n",
       "32570                Tryptofish  ZooPro    0   -1  2010   \n",
       "32571  The High Fin Sperm Whale  ZooPro    0   -1  2010   \n",
       "\n",
       "                           DAT  \\\n",
       "0         23:13, 19 April 2013   \n",
       "1         01:04, 20 April 2013   \n",
       "2         23:43, 19 April 2013   \n",
       "3         00:11, 20 April 2013   \n",
       "4         00:56, 20 April 2013   \n",
       "...                        ...   \n",
       "32567  18:17, 22 February 2010   \n",
       "32568  18:18, 22 February 2010   \n",
       "32569  18:11, 22 February 2010   \n",
       "32570  17:58, 22 February 2010   \n",
       "32571  18:34, 22 February 2010   \n",
       "\n",
       "                                                     TXT  \n",
       "0                               '''Support''' as co-nom.  \n",
       "1                          '''Support''' as nominator.--  \n",
       "2                                '''Support''' per noms.  \n",
       "3      '''Support''' per noms. BDD is a strong contri...  \n",
       "4      '''Support''', with great pleasure. I work wit...  \n",
       "...                                                  ...  \n",
       "32567  '''Oppose''' - Per Polargeo, and per [http://e...  \n",
       "32568  '''Oppose''' per SilkTork's diff above. Assert...  \n",
       "32569  '''Neutral''' Not to pile on, neutral. I canno...  \n",
       "32570  '''Neutral''' I've interacted with this editor...  \n",
       "32571  '''Neutral''' Although we do need more admins ...  \n",
       "\n",
       "[32572 rows x 7 columns]"
      ]
     },
     "execution_count": 5,
     "metadata": {},
     "output_type": "execute_result"
    }
   ],
   "source": [
    "df = pd.read_csv(rfaSet)  \n",
    "\n",
    "df"
   ]
  },
  {
   "cell_type": "code",
   "execution_count": 48,
   "id": "023c2044-4357-437c-bb56-9a2f8d001b8c",
   "metadata": {},
   "outputs": [],
   "source": [
    "\n",
    "# Assuming df is the DataFrame that you've already filtered and processed\n",
    "# Create a signed graph\n",
    "def create_signed_graph(df):\n",
    "    G = nx.DiGraph()  # Directed graph, as SRC votes on TGT\n",
    "    \n",
    "    # Iterate through the rows of the DataFrame to add edges and nodes\n",
    "    for _, row in df.iterrows():\n",
    "        src = row['SRC']\n",
    "        tgt = row['TGT']\n",
    "        vot = row['VOT']\n",
    "        txt = row['TXT']  # Assuming there's a TXT column in the dataframe\n",
    "        res = row['RES']  # Assuming there's a RES column in the dataframe\n",
    "        \n",
    "        # Add nodes with attributes: define whether the node is admin or nonAdmin\n",
    "        if src not in G:\n",
    "            G.add_node(src, status=\"admin\" if res == 1 else \"nonAdmin\")  # If RES is 1, it's an admin\n",
    "        if tgt not in G:\n",
    "            G.add_node(tgt, status=\"admin\" if res == 1 else \"nonAdmin\")  # If RES is 1, it's an admin\n",
    "\n",
    "        # Add edge for VOT of 1, -1, or 0\n",
    "        if vot == 1:\n",
    "            G.add_edge(src, tgt, weight=1, txt=txt)  # Support for admin\n",
    "        elif vot == -1:\n",
    "            G.add_edge(src, tgt, weight=-1, txt=txt)  # Oppose admin\n",
    "        elif vot == 0:\n",
    "            G.add_edge(src, tgt, weight=0, txt=txt)  # Neutral/No vote edge\n",
    "    \n",
    "    return G\n",
    "\n",
    "\n",
    "# Visualize the signed graph\n",
    "def visualize_graph(G):\n",
    "    # Drawing the graph\n",
    "    pos = nx.spring_layout(G)  # Positioning for better visualization\n",
    "    plt.figure(figsize=(12, 12))\n",
    "    \n",
    "    # Draw nodes, edges, and labels\n",
    "    nx.draw(G, pos, with_labels=True, node_color='skyblue', node_size=3000, font_size=10, font_weight='bold', edge_color='gray')\n",
    "    \n",
    "    # Draw edge labels for the weights\n",
    "    edge_labels = nx.get_edge_attributes(G, 'weight')\n",
    "    nx.draw_networkx_edge_labels(G, pos, edge_labels=edge_labels)\n",
    "    \n",
    "    plt.title(\"Signed Graph of SRC -> TGT Votes\")\n",
    "    plt.show()\n",
    "\n",
    "\n",
    "\n",
    "# Create the signed graph\n",
    "G = create_signed_graph(df)"
   ]
  },
  {
   "cell_type": "code",
   "execution_count": 49,
   "id": "a41f7211-16bd-4047-97b6-552b5ac942a2",
   "metadata": {},
   "outputs": [
    {
     "data": {
      "text/plain": [
       "31876"
      ]
     },
     "execution_count": 49,
     "metadata": {},
     "output_type": "execute_result"
    }
   ],
   "source": [
    "G.number_of_edges()"
   ]
  },
  {
   "cell_type": "markdown",
   "id": "7e4911a9-7527-46a4-81bb-c2bc08fc4fed",
   "metadata": {},
   "source": [
    "### GML Format to Gephi"
   ]
  },
  {
   "cell_type": "code",
   "execution_count": 50,
   "id": "82913a79-07dc-466e-8c1d-52ba68224d41",
   "metadata": {},
   "outputs": [],
   "source": [
    "nx.write_gml(G, 'cleaned_graph.gml') "
   ]
  },
  {
   "cell_type": "markdown",
   "id": "5927ad79-59f6-45ea-95e1-d40a26f41d13",
   "metadata": {},
   "source": [
    "### Graph Characteristics\n"
   ]
  },
  {
   "cell_type": "code",
   "execution_count": 51,
   "id": "2de1a195-911a-4ff8-9bf6-7dcfd073dc53",
   "metadata": {},
   "outputs": [],
   "source": [
    "G = create_signed_graph(df)"
   ]
  },
  {
   "cell_type": "markdown",
   "id": "d538de5c-556c-4185-8b81-5ae72c1f084a",
   "metadata": {},
   "source": [
    "number of nodes"
   ]
  },
  {
   "cell_type": "code",
   "execution_count": 52,
   "id": "c897a5e3-0ee5-48c5-b966-b33888c5f391",
   "metadata": {},
   "outputs": [
    {
     "data": {
      "text/plain": [
       "2986"
      ]
     },
     "execution_count": 52,
     "metadata": {},
     "output_type": "execute_result"
    }
   ],
   "source": [
    "G.number_of_nodes()"
   ]
  },
  {
   "cell_type": "markdown",
   "id": "1a0be370-04a8-4f2d-9b09-2f5fc8363012",
   "metadata": {},
   "source": [
    "### Number of Admins and NonAdmins"
   ]
  },
  {
   "cell_type": "code",
   "execution_count": 53,
   "id": "801b9963-95ed-4930-8658-a4ac04cf6a20",
   "metadata": {},
   "outputs": [
    {
     "name": "stdout",
     "output_type": "stream",
     "text": [
      "Number of admin nodes: 2238\n"
     ]
    }
   ],
   "source": [
    "# Count the number of nodes with 'status' as 'admin'\n",
    "admin_count = sum(1 for node, data in G.nodes(data=True) if data['status'] == 'admin')\n",
    "\n",
    "print(f\"Number of admin nodes: {admin_count}\")\n"
   ]
  },
  {
   "cell_type": "code",
   "execution_count": 54,
   "id": "020fc2df-c7b7-4705-9356-ff2e181b6e94",
   "metadata": {},
   "outputs": [
    {
     "name": "stdout",
     "output_type": "stream",
     "text": [
      "Number of nonAdmin nodes: 748\n"
     ]
    }
   ],
   "source": [
    "# Count the number of nodes with 'status' as 'nonAdmin'\n",
    "non_admin_count = sum(1 for node, data in G.nodes(data=True) if data['status'] == 'nonAdmin')\n",
    "\n",
    "print(f\"Number of nonAdmin nodes: {non_admin_count}\")\n",
    "\n"
   ]
  },
  {
   "cell_type": "markdown",
   "id": "fc38785c-4d07-47b3-a842-d7c77ae1ed82",
   "metadata": {},
   "source": [
    "### Number of Edges"
   ]
  },
  {
   "cell_type": "code",
   "execution_count": 55,
   "id": "16c3fcc1-e527-4920-ac61-46e2387b5c0e",
   "metadata": {},
   "outputs": [
    {
     "data": {
      "text/plain": [
       "31876"
      ]
     },
     "execution_count": 55,
     "metadata": {},
     "output_type": "execute_result"
    }
   ],
   "source": [
    "G.number_of_edges()"
   ]
  },
  {
   "cell_type": "code",
   "execution_count": null,
   "id": "03f42acc-107b-47d8-be5b-5bd60ebddd56",
   "metadata": {},
   "outputs": [],
   "source": []
  },
  {
   "cell_type": "code",
   "execution_count": null,
   "id": "60f2af5f-fab8-4435-b174-4f66eec2086d",
   "metadata": {},
   "outputs": [],
   "source": []
  }
 ],
 "metadata": {
  "kernelspec": {
   "display_name": "Python (ADC)",
   "language": "python",
   "name": "adc"
  },
  "language_info": {
   "codemirror_mode": {
    "name": "ipython",
    "version": 3
   },
   "file_extension": ".py",
   "mimetype": "text/x-python",
   "name": "python",
   "nbconvert_exporter": "python",
   "pygments_lexer": "ipython3",
   "version": "3.11.10"
  }
 },
 "nbformat": 4,
 "nbformat_minor": 5
}
