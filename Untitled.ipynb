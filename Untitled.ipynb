{
 "cells": [
  {
   "cell_type": "code",
   "execution_count": null,
   "id": "325970e9-cb2e-4fb4-9ece-10af0733e003",
   "metadata": {},
   "outputs": [],
   "source": [
    "#test\n",
    "\n",
    "sample_"
   ]
  }
 ],
 "metadata": {
  "kernelspec": {
   "display_name": "Python (ADC)",
   "language": "python",
   "name": "adc"
  },
  "language_info": {
   "codemirror_mode": {
    "name": "ipython",
    "version": 3
   },
   "file_extension": ".py",
   "mimetype": "text/x-python",
   "name": "python",
   "nbconvert_exporter": "python",
   "pygments_lexer": "ipython3",
   "version": "3.11.10"
  }
 },
 "nbformat": 4,
 "nbformat_minor": 5
}
