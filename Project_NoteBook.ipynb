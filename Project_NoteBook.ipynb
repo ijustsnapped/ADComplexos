{
 "cells": [
  {
   "cell_type": "code",
   "execution_count": 1,
   "id": "325970e9-cb2e-4fb4-9ece-10af0733e003",
   "metadata": {},
   "outputs": [],
   "source": [
    "import pandas as pd\n",
    "import numpy as np\n",
    "import networkx as nx\n",
    "\n",
    "import spacy\n",
    "from spacy import displacy\n",
    "\n",
    "import matplotlib.pyplot as plt\n"
   ]
  },
  {
   "cell_type": "code",
   "execution_count": 128,
   "id": "31b8fdcf-28d3-4f0b-a060-a3ab180bbde8",
   "metadata": {},
   "outputs": [
    {
     "name": "stdout",
     "output_type": "stream",
     "text": [
      "CSV file with data from 2010 to 2013 has been written to: Data/wiki_RfA_2010_2013.csv\n"
     ]
    }
   ],
   "source": [
    "file_path = 'Data/ground/wiki-RfA.txt'\n",
    "\n",
    "output_file = 'Data/wiki_RfA_2010_2013.csv'\n",
    "\n",
    "\n",
    "def process_file_to_dataframe(file_path):\n",
    "    # Read the text file as lines\n",
    "    with open(file_path, 'r', encoding='utf-8') as file:\n",
    "        content = file.read()\n",
    "    \n",
    "    # Split the content by empty lines\n",
    "    entries = content.strip().split('\\n\\n')\n",
    "\n",
    "    # List to store the entries in a structured format\n",
    "    data = []\n",
    "\n",
    "    # Process each entry\n",
    "    for entry in entries:\n",
    "        entry_dict = {}\n",
    "        for line in entry.split('\\n'):\n",
    "            if \":\" in line:\n",
    "                key, value = line.split(\":\", 1)\n",
    "                entry_dict[key.strip()] = value.strip()\n",
    "        data.append(entry_dict)\n",
    "\n",
    "    # Convert the list of dictionaries to a DataFrame\n",
    "    return pd.DataFrame(data)\n",
    "\n",
    "# Process and filter the data by year (2010 to 2013)\n",
    "def filter_data_by_year(df):\n",
    "    # Convert 'YEA' column to numeric, errors='coerce' will convert non-numeric to NaN\n",
    "    df['YEA'] = pd.to_numeric(df['YEA'], errors='coerce')\n",
    "\n",
    "    # Filter the DataFrame for years between 2010 and 2013\n",
    "    filtered_df = df[(df['YEA'] >= 2010) & (df['YEA'] <= 2013)]\n",
    "\n",
    "    return filtered_df\n",
    "\n",
    "# Write the filtered data to a CSV file\n",
    "def write_csv_file(df, output_file):\n",
    "    df.to_csv(output_file, index=False, encoding='utf-8')\n",
    "\n",
    "# Main processing pipeline\n",
    "df = process_file_to_dataframe(file_path)  # Process the file into a DataFrame\n",
    "filtered_df = filter_data_by_year(df)      # Filter data for 2010-2013\n",
    "write_csv_file(filtered_df, output_file)   # Write the filtered data to CSV\n",
    "\n",
    "print(f\"CSV file with data from 2010 to 2013 has been written to: {output_file}\")"
   ]
  },
  {
   "cell_type": "code",
   "execution_count": 131,
   "id": "8564e88f-45ad-4242-9a15-38e18a914f34",
   "metadata": {},
   "outputs": [],
   "source": [
    "rfaSet = 'Data/wiki_RfA_2010_2013.csv'"
   ]
  },
  {
   "cell_type": "code",
   "execution_count": 132,
   "id": "65146c0a-04b4-43e3-9750-3b0942128d1d",
   "metadata": {},
   "outputs": [
    {
     "data": {
      "text/html": [
       "<div>\n",
       "<style scoped>\n",
       "    .dataframe tbody tr th:only-of-type {\n",
       "        vertical-align: middle;\n",
       "    }\n",
       "\n",
       "    .dataframe tbody tr th {\n",
       "        vertical-align: top;\n",
       "    }\n",
       "\n",
       "    .dataframe thead th {\n",
       "        text-align: right;\n",
       "    }\n",
       "</style>\n",
       "<table border=\"1\" class=\"dataframe\">\n",
       "  <thead>\n",
       "    <tr style=\"text-align: right;\">\n",
       "      <th></th>\n",
       "      <th>SRC</th>\n",
       "      <th>TGT</th>\n",
       "      <th>VOT</th>\n",
       "      <th>RES</th>\n",
       "      <th>YEA</th>\n",
       "      <th>DAT</th>\n",
       "      <th>TXT</th>\n",
       "    </tr>\n",
       "  </thead>\n",
       "  <tbody>\n",
       "    <tr>\n",
       "      <th>0</th>\n",
       "      <td>Steel1943</td>\n",
       "      <td>BDD</td>\n",
       "      <td>1</td>\n",
       "      <td>1</td>\n",
       "      <td>2013</td>\n",
       "      <td>23:13, 19 April 2013</td>\n",
       "      <td>'''Support''' as co-nom.</td>\n",
       "    </tr>\n",
       "    <tr>\n",
       "      <th>1</th>\n",
       "      <td>Cuchullain</td>\n",
       "      <td>BDD</td>\n",
       "      <td>1</td>\n",
       "      <td>1</td>\n",
       "      <td>2013</td>\n",
       "      <td>01:04, 20 April 2013</td>\n",
       "      <td>'''Support''' as nominator.--</td>\n",
       "    </tr>\n",
       "    <tr>\n",
       "      <th>2</th>\n",
       "      <td>INeverCry</td>\n",
       "      <td>BDD</td>\n",
       "      <td>1</td>\n",
       "      <td>1</td>\n",
       "      <td>2013</td>\n",
       "      <td>23:43, 19 April 2013</td>\n",
       "      <td>'''Support''' per noms.</td>\n",
       "    </tr>\n",
       "    <tr>\n",
       "      <th>3</th>\n",
       "      <td>Cncmaster</td>\n",
       "      <td>BDD</td>\n",
       "      <td>1</td>\n",
       "      <td>1</td>\n",
       "      <td>2013</td>\n",
       "      <td>00:11, 20 April 2013</td>\n",
       "      <td>'''Support''' per noms. BDD is a strong contri...</td>\n",
       "    </tr>\n",
       "    <tr>\n",
       "      <th>4</th>\n",
       "      <td>Miniapolis</td>\n",
       "      <td>BDD</td>\n",
       "      <td>1</td>\n",
       "      <td>1</td>\n",
       "      <td>2013</td>\n",
       "      <td>00:56, 20 April 2013</td>\n",
       "      <td>'''Support''', with great pleasure. I work wit...</td>\n",
       "    </tr>\n",
       "    <tr>\n",
       "      <th>...</th>\n",
       "      <td>...</td>\n",
       "      <td>...</td>\n",
       "      <td>...</td>\n",
       "      <td>...</td>\n",
       "      <td>...</td>\n",
       "      <td>...</td>\n",
       "      <td>...</td>\n",
       "    </tr>\n",
       "    <tr>\n",
       "      <th>32567</th>\n",
       "      <td>Atama</td>\n",
       "      <td>ZooPro</td>\n",
       "      <td>-1</td>\n",
       "      <td>-1</td>\n",
       "      <td>2010</td>\n",
       "      <td>18:17, 22 February 2010</td>\n",
       "      <td>'''Oppose''' - Per Polargeo, and per [http://e...</td>\n",
       "    </tr>\n",
       "    <tr>\n",
       "      <th>32568</th>\n",
       "      <td>Bradjamesbrown</td>\n",
       "      <td>ZooPro</td>\n",
       "      <td>-1</td>\n",
       "      <td>-1</td>\n",
       "      <td>2010</td>\n",
       "      <td>18:18, 22 February 2010</td>\n",
       "      <td>'''Oppose''' per SilkTork's diff above. Assert...</td>\n",
       "    </tr>\n",
       "    <tr>\n",
       "      <th>32569</th>\n",
       "      <td>Ottawa4ever</td>\n",
       "      <td>ZooPro</td>\n",
       "      <td>0</td>\n",
       "      <td>-1</td>\n",
       "      <td>2010</td>\n",
       "      <td>18:11, 22 February 2010</td>\n",
       "      <td>'''Neutral''' Not to pile on, neutral. I canno...</td>\n",
       "    </tr>\n",
       "    <tr>\n",
       "      <th>32570</th>\n",
       "      <td>Tryptofish</td>\n",
       "      <td>ZooPro</td>\n",
       "      <td>0</td>\n",
       "      <td>-1</td>\n",
       "      <td>2010</td>\n",
       "      <td>17:58, 22 February 2010</td>\n",
       "      <td>'''Neutral''' I've interacted with this editor...</td>\n",
       "    </tr>\n",
       "    <tr>\n",
       "      <th>32571</th>\n",
       "      <td>The High Fin Sperm Whale</td>\n",
       "      <td>ZooPro</td>\n",
       "      <td>0</td>\n",
       "      <td>-1</td>\n",
       "      <td>2010</td>\n",
       "      <td>18:34, 22 February 2010</td>\n",
       "      <td>'''Neutral''' Although we do need more admins ...</td>\n",
       "    </tr>\n",
       "  </tbody>\n",
       "</table>\n",
       "<p>32572 rows × 7 columns</p>\n",
       "</div>"
      ],
      "text/plain": [
       "                            SRC     TGT  VOT  RES   YEA  \\\n",
       "0                     Steel1943     BDD    1    1  2013   \n",
       "1                    Cuchullain     BDD    1    1  2013   \n",
       "2                     INeverCry     BDD    1    1  2013   \n",
       "3                     Cncmaster     BDD    1    1  2013   \n",
       "4                    Miniapolis     BDD    1    1  2013   \n",
       "...                         ...     ...  ...  ...   ...   \n",
       "32567                     Atama  ZooPro   -1   -1  2010   \n",
       "32568            Bradjamesbrown  ZooPro   -1   -1  2010   \n",
       "32569               Ottawa4ever  ZooPro    0   -1  2010   \n",
       "32570                Tryptofish  ZooPro    0   -1  2010   \n",
       "32571  The High Fin Sperm Whale  ZooPro    0   -1  2010   \n",
       "\n",
       "                           DAT  \\\n",
       "0         23:13, 19 April 2013   \n",
       "1         01:04, 20 April 2013   \n",
       "2         23:43, 19 April 2013   \n",
       "3         00:11, 20 April 2013   \n",
       "4         00:56, 20 April 2013   \n",
       "...                        ...   \n",
       "32567  18:17, 22 February 2010   \n",
       "32568  18:18, 22 February 2010   \n",
       "32569  18:11, 22 February 2010   \n",
       "32570  17:58, 22 February 2010   \n",
       "32571  18:34, 22 February 2010   \n",
       "\n",
       "                                                     TXT  \n",
       "0                               '''Support''' as co-nom.  \n",
       "1                          '''Support''' as nominator.--  \n",
       "2                                '''Support''' per noms.  \n",
       "3      '''Support''' per noms. BDD is a strong contri...  \n",
       "4      '''Support''', with great pleasure. I work wit...  \n",
       "...                                                  ...  \n",
       "32567  '''Oppose''' - Per Polargeo, and per [http://e...  \n",
       "32568  '''Oppose''' per SilkTork's diff above. Assert...  \n",
       "32569  '''Neutral''' Not to pile on, neutral. I canno...  \n",
       "32570  '''Neutral''' I've interacted with this editor...  \n",
       "32571  '''Neutral''' Although we do need more admins ...  \n",
       "\n",
       "[32572 rows x 7 columns]"
      ]
     },
     "execution_count": 132,
     "metadata": {},
     "output_type": "execute_result"
    }
   ],
   "source": [
    "# Load the DataFrame\n",
    "df = pd.read_csv(rfaSet)\n",
    "\n",
    "df"
   ]
  },
  {
   "cell_type": "markdown",
   "id": "25e3a4d6-89d8-44c3-afd0-0637b4c87bbb",
   "metadata": {},
   "source": [
    "#### Making DAT time Objects"
   ]
  },
  {
   "cell_type": "markdown",
   "id": "0e4d0508-0c36-4bcc-bdaf-4b409e7c4bc7",
   "metadata": {},
   "source": [
    "removing "
   ]
  },
  {
   "cell_type": "code",
   "execution_count": 133,
   "id": "bcb9f2c6-da8d-4477-9b45-17db45980d8f",
   "metadata": {},
   "outputs": [
    {
     "name": "stdout",
     "output_type": "stream",
     "text": [
      "               SRC                TGT  VOT  RES   YEA DAT  \\\n",
      "707            NaN        Jason Quinn    0    1  2013 NaT   \n",
      "708            NaN        Jason Quinn    0    1  2013 NaT   \n",
      "793            NaN            Legoktm    1    1  2013 NaT   \n",
      "969    Majoreditor          Lord Roem    1    1  2013 NaT   \n",
      "1126           NaN      Mattythewhite   -1    1  2013 NaT   \n",
      "...            ...                ...  ...  ...   ...  ..   \n",
      "32310      Davidwr           Venomcuz   -1   -1  2010 NaT   \n",
      "32346       Begoon      White Shadows   -1   -1  2010 NaT   \n",
      "32350          NaN      White Shadows   -1   -1  2010 NaT   \n",
      "32394          NaN         WikiCopter   -1   -1  2010 NaT   \n",
      "32522          NaN  William S. Saturn   -1   -1  2010 NaT   \n",
      "\n",
      "                                                     TXT  \n",
      "707                                                  NaN  \n",
      "708                                                  NaN  \n",
      "793                                                  NaN  \n",
      "969    '''Support'''. The candidate is a good content...  \n",
      "1126                                                 NaN  \n",
      "...                                                  ...  \n",
      "32310                                       '''Oppose'''  \n",
      "32346  '''Oppose''' Sorry. I can't support with the m...  \n",
      "32350                                                NaN  \n",
      "32394                                                NaN  \n",
      "32522                                                NaN  \n",
      "\n",
      "[262 rows x 7 columns]\n"
     ]
    }
   ],
   "source": [
    "# Convert the 'DAT' column to datetime, invalid parsing will result in NaT\n",
    "df['DAT'] = pd.to_datetime(df['DAT'], format='%H:%M, %d %B %Y', errors='coerce')\n",
    "\n",
    "# Filter rows where 'DAT' is NaT\n",
    "nat_rows = df[df['DAT'].isna()]\n",
    "\n",
    "# Display the rows with NaT in the 'DAT' column\n",
    "print(nat_rows)\n"
   ]
  },
  {
   "cell_type": "code",
   "execution_count": 134,
   "id": "fc61e184-baed-411d-935b-3a8f38069206",
   "metadata": {},
   "outputs": [
    {
     "name": "stdout",
     "output_type": "stream",
     "text": [
      "Number of rows with NA in DAT: 262\n",
      "Number of rows with NA in DAT: 0\n"
     ]
    },
    {
     "data": {
      "text/html": [
       "<div>\n",
       "<style scoped>\n",
       "    .dataframe tbody tr th:only-of-type {\n",
       "        vertical-align: middle;\n",
       "    }\n",
       "\n",
       "    .dataframe tbody tr th {\n",
       "        vertical-align: top;\n",
       "    }\n",
       "\n",
       "    .dataframe thead th {\n",
       "        text-align: right;\n",
       "    }\n",
       "</style>\n",
       "<table border=\"1\" class=\"dataframe\">\n",
       "  <thead>\n",
       "    <tr style=\"text-align: right;\">\n",
       "      <th></th>\n",
       "      <th>SRC</th>\n",
       "      <th>TGT</th>\n",
       "      <th>VOT</th>\n",
       "      <th>RES</th>\n",
       "      <th>YEA</th>\n",
       "      <th>DAT</th>\n",
       "      <th>TXT</th>\n",
       "    </tr>\n",
       "  </thead>\n",
       "  <tbody>\n",
       "    <tr>\n",
       "      <th>0</th>\n",
       "      <td>Steel1943</td>\n",
       "      <td>BDD</td>\n",
       "      <td>1</td>\n",
       "      <td>1</td>\n",
       "      <td>2013</td>\n",
       "      <td>2013-04-19 23:13:00</td>\n",
       "      <td>'''Support''' as co-nom.</td>\n",
       "    </tr>\n",
       "    <tr>\n",
       "      <th>1</th>\n",
       "      <td>Cuchullain</td>\n",
       "      <td>BDD</td>\n",
       "      <td>1</td>\n",
       "      <td>1</td>\n",
       "      <td>2013</td>\n",
       "      <td>2013-04-20 01:04:00</td>\n",
       "      <td>'''Support''' as nominator.--</td>\n",
       "    </tr>\n",
       "    <tr>\n",
       "      <th>2</th>\n",
       "      <td>INeverCry</td>\n",
       "      <td>BDD</td>\n",
       "      <td>1</td>\n",
       "      <td>1</td>\n",
       "      <td>2013</td>\n",
       "      <td>2013-04-19 23:43:00</td>\n",
       "      <td>'''Support''' per noms.</td>\n",
       "    </tr>\n",
       "    <tr>\n",
       "      <th>3</th>\n",
       "      <td>Cncmaster</td>\n",
       "      <td>BDD</td>\n",
       "      <td>1</td>\n",
       "      <td>1</td>\n",
       "      <td>2013</td>\n",
       "      <td>2013-04-20 00:11:00</td>\n",
       "      <td>'''Support''' per noms. BDD is a strong contri...</td>\n",
       "    </tr>\n",
       "    <tr>\n",
       "      <th>4</th>\n",
       "      <td>Miniapolis</td>\n",
       "      <td>BDD</td>\n",
       "      <td>1</td>\n",
       "      <td>1</td>\n",
       "      <td>2013</td>\n",
       "      <td>2013-04-20 00:56:00</td>\n",
       "      <td>'''Support''', with great pleasure. I work wit...</td>\n",
       "    </tr>\n",
       "    <tr>\n",
       "      <th>...</th>\n",
       "      <td>...</td>\n",
       "      <td>...</td>\n",
       "      <td>...</td>\n",
       "      <td>...</td>\n",
       "      <td>...</td>\n",
       "      <td>...</td>\n",
       "      <td>...</td>\n",
       "    </tr>\n",
       "    <tr>\n",
       "      <th>32567</th>\n",
       "      <td>Atama</td>\n",
       "      <td>ZooPro</td>\n",
       "      <td>-1</td>\n",
       "      <td>-1</td>\n",
       "      <td>2010</td>\n",
       "      <td>2010-02-22 18:17:00</td>\n",
       "      <td>'''Oppose''' - Per Polargeo, and per [http://e...</td>\n",
       "    </tr>\n",
       "    <tr>\n",
       "      <th>32568</th>\n",
       "      <td>Bradjamesbrown</td>\n",
       "      <td>ZooPro</td>\n",
       "      <td>-1</td>\n",
       "      <td>-1</td>\n",
       "      <td>2010</td>\n",
       "      <td>2010-02-22 18:18:00</td>\n",
       "      <td>'''Oppose''' per SilkTork's diff above. Assert...</td>\n",
       "    </tr>\n",
       "    <tr>\n",
       "      <th>32569</th>\n",
       "      <td>Ottawa4ever</td>\n",
       "      <td>ZooPro</td>\n",
       "      <td>0</td>\n",
       "      <td>-1</td>\n",
       "      <td>2010</td>\n",
       "      <td>2010-02-22 18:11:00</td>\n",
       "      <td>'''Neutral''' Not to pile on, neutral. I canno...</td>\n",
       "    </tr>\n",
       "    <tr>\n",
       "      <th>32570</th>\n",
       "      <td>Tryptofish</td>\n",
       "      <td>ZooPro</td>\n",
       "      <td>0</td>\n",
       "      <td>-1</td>\n",
       "      <td>2010</td>\n",
       "      <td>2010-02-22 17:58:00</td>\n",
       "      <td>'''Neutral''' I've interacted with this editor...</td>\n",
       "    </tr>\n",
       "    <tr>\n",
       "      <th>32571</th>\n",
       "      <td>The High Fin Sperm Whale</td>\n",
       "      <td>ZooPro</td>\n",
       "      <td>0</td>\n",
       "      <td>-1</td>\n",
       "      <td>2010</td>\n",
       "      <td>2010-02-22 18:34:00</td>\n",
       "      <td>'''Neutral''' Although we do need more admins ...</td>\n",
       "    </tr>\n",
       "  </tbody>\n",
       "</table>\n",
       "<p>32310 rows × 7 columns</p>\n",
       "</div>"
      ],
      "text/plain": [
       "                            SRC     TGT  VOT  RES   YEA                 DAT  \\\n",
       "0                     Steel1943     BDD    1    1  2013 2013-04-19 23:13:00   \n",
       "1                    Cuchullain     BDD    1    1  2013 2013-04-20 01:04:00   \n",
       "2                     INeverCry     BDD    1    1  2013 2013-04-19 23:43:00   \n",
       "3                     Cncmaster     BDD    1    1  2013 2013-04-20 00:11:00   \n",
       "4                    Miniapolis     BDD    1    1  2013 2013-04-20 00:56:00   \n",
       "...                         ...     ...  ...  ...   ...                 ...   \n",
       "32567                     Atama  ZooPro   -1   -1  2010 2010-02-22 18:17:00   \n",
       "32568            Bradjamesbrown  ZooPro   -1   -1  2010 2010-02-22 18:18:00   \n",
       "32569               Ottawa4ever  ZooPro    0   -1  2010 2010-02-22 18:11:00   \n",
       "32570                Tryptofish  ZooPro    0   -1  2010 2010-02-22 17:58:00   \n",
       "32571  The High Fin Sperm Whale  ZooPro    0   -1  2010 2010-02-22 18:34:00   \n",
       "\n",
       "                                                     TXT  \n",
       "0                               '''Support''' as co-nom.  \n",
       "1                          '''Support''' as nominator.--  \n",
       "2                                '''Support''' per noms.  \n",
       "3      '''Support''' per noms. BDD is a strong contri...  \n",
       "4      '''Support''', with great pleasure. I work wit...  \n",
       "...                                                  ...  \n",
       "32567  '''Oppose''' - Per Polargeo, and per [http://e...  \n",
       "32568  '''Oppose''' per SilkTork's diff above. Assert...  \n",
       "32569  '''Neutral''' Not to pile on, neutral. I canno...  \n",
       "32570  '''Neutral''' I've interacted with this editor...  \n",
       "32571  '''Neutral''' Although we do need more admins ...  \n",
       "\n",
       "[32310 rows x 7 columns]"
      ]
     },
     "execution_count": 134,
     "metadata": {},
     "output_type": "execute_result"
    }
   ],
   "source": [
    "\n",
    "# Read the CSV file\n",
    "df = pd.read_csv(rfaSet)\n",
    "\n",
    "# Convert 'DAT' to datetime, coercing errors to NaT (invalid datetimes)\n",
    "df['DAT'] = pd.to_datetime(df['DAT'], format='%H:%M, %d %B %Y', errors='coerce')\n",
    "\n",
    "na_count = df['DAT'].isna().sum()\n",
    "print(f\"Number of rows with NA in DAT: {na_count}\")\n",
    "\n",
    "# Remove rows where DAT is NaT (missing or invalid datetime)\n",
    "df_cleaned = df.dropna(subset=['DAT'])\n",
    "\n",
    "\n",
    "na_count = df_cleaned['DAT'].isna().sum()\n",
    "print(f\"Number of rows with NA in DAT: {na_count}\")\n",
    "\n",
    "# Print the cleaned dataframe\n",
    "df_cleaned\n"
   ]
  },
  {
   "cell_type": "code",
   "execution_count": 135,
   "id": "023c2044-4357-437c-bb56-9a2f8d001b8c",
   "metadata": {},
   "outputs": [],
   "source": [
    "\n",
    "# Assuming df is the DataFrame that you've already filtered and processed\n",
    "# Create a signed graph\n",
    "def create_signed_graph(df):\n",
    "    G = nx.MultiDiGraph()  # Use MultiDiGraph to allow multiple edges between nodes\n",
    "    \n",
    "    # Iterate through the rows of the DataFrame to add edges and nodes\n",
    "    for _, row in df.iterrows():\n",
    "        src = row['SRC']\n",
    "        tgt = row['TGT']\n",
    "        vot = row['VOT']\n",
    "        txt = row['TXT']  # Assuming there's a TXT column in the dataframe\n",
    "        res = row['RES']  # Assuming there's a RES column in the dataframe\n",
    "        dat = row['DAT']  # Assuming there's a DAT column in the dataframe\n",
    "        \n",
    "        # Add nodes (only storing their names/IDs, no status)\n",
    "        if src not in G:\n",
    "            G.add_node(src)\n",
    "        if tgt not in G:\n",
    "            G.add_node(tgt)\n",
    "        \n",
    "        # Determine admin status (based on RES value)\n",
    "        admin_status = \"admin\" if res == 1 else \"nonAdmin\"\n",
    "        \n",
    "        # Add edge with the necessary attributes: vote weight, text, admin status, and DAT\n",
    "        edge_attrs = {\n",
    "            'weight': vot, \n",
    "            'txt': txt,\n",
    "            'admin': admin_status,\n",
    "            'DAT': dat  # Adding the DAT value to the edge attributes\n",
    "        }\n",
    "\n",
    "        G.add_edge(src, tgt, **edge_attrs)\n",
    "    \n",
    "    return G\n",
    "\n",
    "\n",
    "# Visualize the signed graph\n",
    "def visualize_graph(G):\n",
    "    # Drawing the graph\n",
    "    pos = nx.spring_layout(G)  # Positioning for better visualization\n",
    "    plt.figure(figsize=(12, 12))\n",
    "    \n",
    "    # Draw nodes, edges, and labels\n",
    "    nx.draw(G, pos, with_labels=True, node_color='skyblue', node_size=3000, font_size=10, font_weight='bold', edge_color='gray')\n",
    "    \n",
    "    # Draw edge labels for the weights\n",
    "    edge_labels = nx.get_edge_attributes(G, 'weight')\n",
    "    nx.draw_networkx_edge_labels(G, pos, edge_labels=edge_labels)\n",
    "    \n",
    "    plt.title(\"Signed Graph of SRC -> TGT Votes\")\n",
    "    plt.show()\n",
    "\n",
    "\n",
    "\n",
    "# Create the signed graph\n",
    "G = create_signed_graph(df_cleaned)"
   ]
  },
  {
   "cell_type": "code",
   "execution_count": 136,
   "id": "a41f7211-16bd-4047-97b6-552b5ac942a2",
   "metadata": {},
   "outputs": [
    {
     "data": {
      "text/plain": [
       "32310"
      ]
     },
     "execution_count": 136,
     "metadata": {},
     "output_type": "execute_result"
    }
   ],
   "source": [
    "G.number_of_edges()"
   ]
  },
  {
   "cell_type": "markdown",
   "id": "7e4911a9-7527-46a4-81bb-c2bc08fc4fed",
   "metadata": {},
   "source": [
    "### GML Format to Gephi"
   ]
  },
  {
   "cell_type": "code",
   "execution_count": 101,
   "id": "82913a79-07dc-466e-8c1d-52ba68224d41",
   "metadata": {},
   "outputs": [
    {
     "ename": "NetworkXError",
     "evalue": "Timestamp('2013-04-19 23:13:00') is not a string",
     "output_type": "error",
     "traceback": [
      "\u001b[0;31m---------------------------------------------------------------------------\u001b[0m",
      "\u001b[0;31mNetworkXError\u001b[0m                             Traceback (most recent call last)",
      "Cell \u001b[0;32mIn[101], line 1\u001b[0m\n\u001b[0;32m----> 1\u001b[0m nx\u001b[38;5;241m.\u001b[39mwrite_gml(G, \u001b[38;5;124m'\u001b[39m\u001b[38;5;124mcleaned_graph.gml\u001b[39m\u001b[38;5;124m'\u001b[39m)\n",
      "File \u001b[0;32m<class 'networkx.utils.decorators.argmap'> compilation 5:5\u001b[0m, in \u001b[0;36margmap_write_gml_1\u001b[0;34m(G, path, stringizer)\u001b[0m\n\u001b[1;32m      3\u001b[0m \u001b[38;5;28;01mimport\u001b[39;00m \u001b[38;5;21;01mgzip\u001b[39;00m\n\u001b[1;32m      4\u001b[0m \u001b[38;5;28;01mimport\u001b[39;00m \u001b[38;5;21;01minspect\u001b[39;00m\n\u001b[0;32m----> 5\u001b[0m \u001b[38;5;28;01mimport\u001b[39;00m \u001b[38;5;21;01mitertools\u001b[39;00m\n\u001b[1;32m      6\u001b[0m \u001b[38;5;28;01mimport\u001b[39;00m \u001b[38;5;21;01mre\u001b[39;00m\n\u001b[1;32m      7\u001b[0m \u001b[38;5;28;01mimport\u001b[39;00m \u001b[38;5;21;01mwarnings\u001b[39;00m\n",
      "File \u001b[0;32m/opt/anaconda3/envs/ADC/lib/python3.11/site-packages/networkx/readwrite/gml.py:878\u001b[0m, in \u001b[0;36mwrite_gml\u001b[0;34m(G, path, stringizer)\u001b[0m\n\u001b[1;32m    817\u001b[0m \u001b[38;5;129m@open_file\u001b[39m(\u001b[38;5;241m1\u001b[39m, mode\u001b[38;5;241m=\u001b[39m\u001b[38;5;124m\"\u001b[39m\u001b[38;5;124mwb\u001b[39m\u001b[38;5;124m\"\u001b[39m)\n\u001b[1;32m    818\u001b[0m \u001b[38;5;28;01mdef\u001b[39;00m \u001b[38;5;21mwrite_gml\u001b[39m(G, path, stringizer\u001b[38;5;241m=\u001b[39m\u001b[38;5;28;01mNone\u001b[39;00m):\n\u001b[1;32m    819\u001b[0m \u001b[38;5;250m    \u001b[39m\u001b[38;5;124;03m\"\"\"Write a graph `G` in GML format to the file or file handle `path`.\u001b[39;00m\n\u001b[1;32m    820\u001b[0m \n\u001b[1;32m    821\u001b[0m \u001b[38;5;124;03m    Parameters\u001b[39;00m\n\u001b[0;32m   (...)\u001b[0m\n\u001b[1;32m    876\u001b[0m \u001b[38;5;124;03m    >>> nx.write_gml(G, \"test.gml.gz\")\u001b[39;00m\n\u001b[1;32m    877\u001b[0m \u001b[38;5;124;03m    \"\"\"\u001b[39;00m\n\u001b[0;32m--> 878\u001b[0m     \u001b[38;5;28;01mfor\u001b[39;00m line \u001b[38;5;129;01min\u001b[39;00m generate_gml(G, stringizer):\n\u001b[1;32m    879\u001b[0m         path\u001b[38;5;241m.\u001b[39mwrite((line \u001b[38;5;241m+\u001b[39m \u001b[38;5;124m\"\u001b[39m\u001b[38;5;130;01m\\n\u001b[39;00m\u001b[38;5;124m\"\u001b[39m)\u001b[38;5;241m.\u001b[39mencode(\u001b[38;5;124m\"\u001b[39m\u001b[38;5;124mascii\u001b[39m\u001b[38;5;124m\"\u001b[39m))\n",
      "File \u001b[0;32m/opt/anaconda3/envs/ADC/lib/python3.11/site-packages/networkx/readwrite/gml.py:812\u001b[0m, in \u001b[0;36mgenerate_gml\u001b[0;34m(G, stringizer)\u001b[0m\n\u001b[1;32m    810\u001b[0m         \u001b[38;5;28;01myield from\u001b[39;00m stringize(\u001b[38;5;124m\"\u001b[39m\u001b[38;5;124mkey\u001b[39m\u001b[38;5;124m\"\u001b[39m, e[\u001b[38;5;241m2\u001b[39m], (), \u001b[38;5;124m\"\u001b[39m\u001b[38;5;124m    \u001b[39m\u001b[38;5;124m\"\u001b[39m)\n\u001b[1;32m    811\u001b[0m     \u001b[38;5;28;01mfor\u001b[39;00m attr, value \u001b[38;5;129;01min\u001b[39;00m e[\u001b[38;5;241m-\u001b[39m\u001b[38;5;241m1\u001b[39m]\u001b[38;5;241m.\u001b[39mitems():\n\u001b[0;32m--> 812\u001b[0m         \u001b[38;5;28;01myield from\u001b[39;00m stringize(attr, value, ignored_keys, \u001b[38;5;124m\"\u001b[39m\u001b[38;5;124m    \u001b[39m\u001b[38;5;124m\"\u001b[39m)\n\u001b[1;32m    813\u001b[0m     \u001b[38;5;28;01myield\u001b[39;00m \u001b[38;5;124m\"\u001b[39m\u001b[38;5;124m  ]\u001b[39m\u001b[38;5;124m\"\u001b[39m\n\u001b[1;32m    814\u001b[0m \u001b[38;5;28;01myield\u001b[39;00m \u001b[38;5;124m\"\u001b[39m\u001b[38;5;124m]\u001b[39m\u001b[38;5;124m\"\u001b[39m\n",
      "File \u001b[0;32m/opt/anaconda3/envs/ADC/lib/python3.11/site-packages/networkx/readwrite/gml.py:773\u001b[0m, in \u001b[0;36mgenerate_gml.<locals>.stringize\u001b[0;34m(key, value, ignored_keys, indent, in_list)\u001b[0m\n\u001b[1;32m    769\u001b[0m         \u001b[38;5;28;01mraise\u001b[39;00m NetworkXError(\n\u001b[1;32m    770\u001b[0m             \u001b[38;5;124mf\u001b[39m\u001b[38;5;124m\"\u001b[39m\u001b[38;5;132;01m{\u001b[39;00mvalue\u001b[38;5;132;01m!r}\u001b[39;00m\u001b[38;5;124m cannot be converted into a string\u001b[39m\u001b[38;5;124m\"\u001b[39m\n\u001b[1;32m    771\u001b[0m         ) \u001b[38;5;28;01mfrom\u001b[39;00m \u001b[38;5;21;01merr\u001b[39;00m\n\u001b[1;32m    772\u001b[0m \u001b[38;5;28;01mif\u001b[39;00m \u001b[38;5;129;01mnot\u001b[39;00m \u001b[38;5;28misinstance\u001b[39m(value, \u001b[38;5;28mstr\u001b[39m):\n\u001b[0;32m--> 773\u001b[0m     \u001b[38;5;28;01mraise\u001b[39;00m NetworkXError(\u001b[38;5;124mf\u001b[39m\u001b[38;5;124m\"\u001b[39m\u001b[38;5;132;01m{\u001b[39;00mvalue\u001b[38;5;132;01m!r}\u001b[39;00m\u001b[38;5;124m is not a string\u001b[39m\u001b[38;5;124m\"\u001b[39m)\n\u001b[1;32m    774\u001b[0m \u001b[38;5;28;01myield\u001b[39;00m indent \u001b[38;5;241m+\u001b[39m key \u001b[38;5;241m+\u001b[39m \u001b[38;5;124m'\u001b[39m\u001b[38;5;124m \u001b[39m\u001b[38;5;124m\"\u001b[39m\u001b[38;5;124m'\u001b[39m \u001b[38;5;241m+\u001b[39m escape(value) \u001b[38;5;241m+\u001b[39m \u001b[38;5;124m'\u001b[39m\u001b[38;5;124m\"\u001b[39m\u001b[38;5;124m'\u001b[39m\n",
      "\u001b[0;31mNetworkXError\u001b[0m: Timestamp('2013-04-19 23:13:00') is not a string"
     ]
    }
   ],
   "source": [
    "nx.write_gml(G, 'cleaned_graph.gml') "
   ]
  },
  {
   "cell_type": "markdown",
   "id": "5927ad79-59f6-45ea-95e1-d40a26f41d13",
   "metadata": {},
   "source": [
    "### Graph Characteristics\n"
   ]
  },
  {
   "cell_type": "code",
   "execution_count": 102,
   "id": "2de1a195-911a-4ff8-9bf6-7dcfd073dc53",
   "metadata": {},
   "outputs": [],
   "source": [
    "G = create_signed_graph(df)"
   ]
  },
  {
   "cell_type": "markdown",
   "id": "d538de5c-556c-4185-8b81-5ae72c1f084a",
   "metadata": {},
   "source": [
    "number of nodes"
   ]
  },
  {
   "cell_type": "code",
   "execution_count": 103,
   "id": "c897a5e3-0ee5-48c5-b966-b33888c5f391",
   "metadata": {},
   "outputs": [
    {
     "data": {
      "text/plain": [
       "2986"
      ]
     },
     "execution_count": 103,
     "metadata": {},
     "output_type": "execute_result"
    }
   ],
   "source": [
    "G.number_of_nodes()"
   ]
  },
  {
   "cell_type": "markdown",
   "id": "1a0be370-04a8-4f2d-9b09-2f5fc8363012",
   "metadata": {},
   "source": [
    "### Number of Admins and NonAdmins"
   ]
  },
  {
   "cell_type": "code",
   "execution_count": 104,
   "id": "801b9963-95ed-4930-8658-a4ac04cf6a20",
   "metadata": {},
   "outputs": [
    {
     "ename": "KeyError",
     "evalue": "'status'",
     "output_type": "error",
     "traceback": [
      "\u001b[0;31m---------------------------------------------------------------------------\u001b[0m",
      "\u001b[0;31mKeyError\u001b[0m                                  Traceback (most recent call last)",
      "Cell \u001b[0;32mIn[104], line 2\u001b[0m\n\u001b[1;32m      1\u001b[0m \u001b[38;5;66;03m# Count the number of nodes with 'status' as 'admin'\u001b[39;00m\n\u001b[0;32m----> 2\u001b[0m admin_count \u001b[38;5;241m=\u001b[39m \u001b[38;5;28msum\u001b[39m(\u001b[38;5;241m1\u001b[39m \u001b[38;5;28;01mfor\u001b[39;00m node, data \u001b[38;5;129;01min\u001b[39;00m G\u001b[38;5;241m.\u001b[39mnodes(data\u001b[38;5;241m=\u001b[39m\u001b[38;5;28;01mTrue\u001b[39;00m) \u001b[38;5;28;01mif\u001b[39;00m data[\u001b[38;5;124m'\u001b[39m\u001b[38;5;124mstatus\u001b[39m\u001b[38;5;124m'\u001b[39m] \u001b[38;5;241m==\u001b[39m \u001b[38;5;124m'\u001b[39m\u001b[38;5;124madmin\u001b[39m\u001b[38;5;124m'\u001b[39m)\n\u001b[1;32m      4\u001b[0m \u001b[38;5;28mprint\u001b[39m(\u001b[38;5;124mf\u001b[39m\u001b[38;5;124m\"\u001b[39m\u001b[38;5;124mNumber of admin nodes: \u001b[39m\u001b[38;5;132;01m{\u001b[39;00madmin_count\u001b[38;5;132;01m}\u001b[39;00m\u001b[38;5;124m\"\u001b[39m)\n",
      "Cell \u001b[0;32mIn[104], line 2\u001b[0m, in \u001b[0;36m<genexpr>\u001b[0;34m(.0)\u001b[0m\n\u001b[1;32m      1\u001b[0m \u001b[38;5;66;03m# Count the number of nodes with 'status' as 'admin'\u001b[39;00m\n\u001b[0;32m----> 2\u001b[0m admin_count \u001b[38;5;241m=\u001b[39m \u001b[38;5;28msum\u001b[39m(\u001b[38;5;241m1\u001b[39m \u001b[38;5;28;01mfor\u001b[39;00m node, data \u001b[38;5;129;01min\u001b[39;00m G\u001b[38;5;241m.\u001b[39mnodes(data\u001b[38;5;241m=\u001b[39m\u001b[38;5;28;01mTrue\u001b[39;00m) \u001b[38;5;28;01mif\u001b[39;00m data[\u001b[38;5;124m'\u001b[39m\u001b[38;5;124mstatus\u001b[39m\u001b[38;5;124m'\u001b[39m] \u001b[38;5;241m==\u001b[39m \u001b[38;5;124m'\u001b[39m\u001b[38;5;124madmin\u001b[39m\u001b[38;5;124m'\u001b[39m)\n\u001b[1;32m      4\u001b[0m \u001b[38;5;28mprint\u001b[39m(\u001b[38;5;124mf\u001b[39m\u001b[38;5;124m\"\u001b[39m\u001b[38;5;124mNumber of admin nodes: \u001b[39m\u001b[38;5;132;01m{\u001b[39;00madmin_count\u001b[38;5;132;01m}\u001b[39;00m\u001b[38;5;124m\"\u001b[39m)\n",
      "\u001b[0;31mKeyError\u001b[0m: 'status'"
     ]
    }
   ],
   "source": [
    "# Count the number of nodes with 'status' as 'admin'\n",
    "admin_count = sum(1 for node, data in G.nodes(data=True) if data['status'] == 'admin')\n",
    "\n",
    "print(f\"Number of admin nodes: {admin_count}\")\n"
   ]
  },
  {
   "cell_type": "code",
   "execution_count": 105,
   "id": "020fc2df-c7b7-4705-9356-ff2e181b6e94",
   "metadata": {},
   "outputs": [
    {
     "ename": "KeyError",
     "evalue": "'status'",
     "output_type": "error",
     "traceback": [
      "\u001b[0;31m---------------------------------------------------------------------------\u001b[0m",
      "\u001b[0;31mKeyError\u001b[0m                                  Traceback (most recent call last)",
      "Cell \u001b[0;32mIn[105], line 2\u001b[0m\n\u001b[1;32m      1\u001b[0m \u001b[38;5;66;03m# Count the number of nodes with 'status' as 'nonAdmin'\u001b[39;00m\n\u001b[0;32m----> 2\u001b[0m non_admin_count \u001b[38;5;241m=\u001b[39m \u001b[38;5;28msum\u001b[39m(\u001b[38;5;241m1\u001b[39m \u001b[38;5;28;01mfor\u001b[39;00m node, data \u001b[38;5;129;01min\u001b[39;00m G\u001b[38;5;241m.\u001b[39mnodes(data\u001b[38;5;241m=\u001b[39m\u001b[38;5;28;01mTrue\u001b[39;00m) \u001b[38;5;28;01mif\u001b[39;00m data[\u001b[38;5;124m'\u001b[39m\u001b[38;5;124mstatus\u001b[39m\u001b[38;5;124m'\u001b[39m] \u001b[38;5;241m==\u001b[39m \u001b[38;5;124m'\u001b[39m\u001b[38;5;124mnonAdmin\u001b[39m\u001b[38;5;124m'\u001b[39m)\n\u001b[1;32m      4\u001b[0m \u001b[38;5;28mprint\u001b[39m(\u001b[38;5;124mf\u001b[39m\u001b[38;5;124m\"\u001b[39m\u001b[38;5;124mNumber of nonAdmin nodes: \u001b[39m\u001b[38;5;132;01m{\u001b[39;00mnon_admin_count\u001b[38;5;132;01m}\u001b[39;00m\u001b[38;5;124m\"\u001b[39m)\n",
      "Cell \u001b[0;32mIn[105], line 2\u001b[0m, in \u001b[0;36m<genexpr>\u001b[0;34m(.0)\u001b[0m\n\u001b[1;32m      1\u001b[0m \u001b[38;5;66;03m# Count the number of nodes with 'status' as 'nonAdmin'\u001b[39;00m\n\u001b[0;32m----> 2\u001b[0m non_admin_count \u001b[38;5;241m=\u001b[39m \u001b[38;5;28msum\u001b[39m(\u001b[38;5;241m1\u001b[39m \u001b[38;5;28;01mfor\u001b[39;00m node, data \u001b[38;5;129;01min\u001b[39;00m G\u001b[38;5;241m.\u001b[39mnodes(data\u001b[38;5;241m=\u001b[39m\u001b[38;5;28;01mTrue\u001b[39;00m) \u001b[38;5;28;01mif\u001b[39;00m data[\u001b[38;5;124m'\u001b[39m\u001b[38;5;124mstatus\u001b[39m\u001b[38;5;124m'\u001b[39m] \u001b[38;5;241m==\u001b[39m \u001b[38;5;124m'\u001b[39m\u001b[38;5;124mnonAdmin\u001b[39m\u001b[38;5;124m'\u001b[39m)\n\u001b[1;32m      4\u001b[0m \u001b[38;5;28mprint\u001b[39m(\u001b[38;5;124mf\u001b[39m\u001b[38;5;124m\"\u001b[39m\u001b[38;5;124mNumber of nonAdmin nodes: \u001b[39m\u001b[38;5;132;01m{\u001b[39;00mnon_admin_count\u001b[38;5;132;01m}\u001b[39;00m\u001b[38;5;124m\"\u001b[39m)\n",
      "\u001b[0;31mKeyError\u001b[0m: 'status'"
     ]
    }
   ],
   "source": [
    "# Count the number of nodes with 'status' as 'nonAdmin'\n",
    "non_admin_count = sum(1 for node, data in G.nodes(data=True) if data['status'] == 'nonAdmin')\n",
    "\n",
    "print(f\"Number of nonAdmin nodes: {non_admin_count}\")\n",
    "\n"
   ]
  },
  {
   "cell_type": "markdown",
   "id": "fc38785c-4d07-47b3-a842-d7c77ae1ed82",
   "metadata": {},
   "source": [
    "### Number of Edges"
   ]
  },
  {
   "cell_type": "code",
   "execution_count": 106,
   "id": "16c3fcc1-e527-4920-ac61-46e2387b5c0e",
   "metadata": {},
   "outputs": [
    {
     "data": {
      "text/plain": [
       "32572"
      ]
     },
     "execution_count": 106,
     "metadata": {},
     "output_type": "execute_result"
    }
   ],
   "source": [
    "G.number_of_edges()"
   ]
  },
  {
   "cell_type": "code",
   "execution_count": 110,
   "id": "03f42acc-107b-47d8-be5b-5bd60ebddd56",
   "metadata": {},
   "outputs": [
    {
     "name": "stdout",
     "output_type": "stream",
     "text": [
      "\n",
      "'''Support''' as co-nom.\n",
      "\n",
      "<del>'''Neutral'''</del>. '''Moral Support'''. I've only run across RockMagnetist once in my travels in checking/editing articles on this Wikipedia, and RockMagnetist seems like a good candidate for this based on the description above. However, since I have to base my votes on the actual experience I have had with the user as an editor, I cannot sway my vote either way. Either way, I am leaning more towards a support, but since I vote based on interaction, I have neither any positive nor negative thoughts going through my head, so I vote \"Neutral\".\n",
      "\n",
      "'''Neutral'''. As I vote based on actual interaction with an editor, since I have never interacted with this editor at all in the past, I have to vote \"Neutral\".\n",
      "\n",
      "'''Oppose'''. Well, I was going to vote \"Neutral\" since I base my votes on interaction with the editor/user; however, after reading [[User:Reaper Eternal|Reaper Eternal]]'s opposition statement, I can definitely agree that I do not want an administrator who possesses such qualities. Wikipedia is not an MMORPG; if one wants to play an MMORPG, subscribe to one and play it. I'd rather there not be a risk of the integrity of Wikipedia being disrupted by a administrator who wants who has a risk of using the tools for the wrong purposes.\n",
      "\n",
      "'''Support''' Miniapolis is a great editor, and I have absolutely no reason to think she wouldn't use the tools responsibly. I'm proud to be casting my first RfA vote in support of her. --\n",
      "\n",
      "'''Support''' Easy to trust him with the tools when he's made one of them! I'm excited to see what else he has in store. --\n",
      "\n",
      "'''Moral support''' You look to be a prolific and valuable editor, so I hope you won't be discouraged by the oppose votes, whatever the outcome. But some of them have raised some good points about temperament. A \"dirty\" block log shouldn't [[Wikipedia:Mark of Cain|permanently disqualify]] you or anything, but recent edit warring suggests you haven't left those habits behind. Keep clean and I'll hope to give you full support next time. --\n",
      "\n",
      "'''Oppose''' Sorry. You've undoubtedly made some very positive contributions to the project, but there's no way I could support ''anyone'' at RfA less than a month after a block. Be on your best behavior for as long as possible, and hopefully all of us can put this nastiness behind us someday. --\n",
      "\n",
      "'''Weak support''' Piotrus's positive contributions to the project are tremendous, and the EEML business is far enough in the past that I believe he has learned from his mistakes. I was very put off by his combative responses to some editors on this page, such that I wasn't sure he had the demeanor of a good administrator. It looks like he's cooled down, but presumably anyone can wear a smiley mask for a few days at RfA. Keep a cool head and try again in a few months. --\n",
      "\n",
      "'''Support''' as nominator.--\n"
     ]
    }
   ],
   "source": [
    "# Get the first 10 edges' txt attributes\n",
    "edge_txts = [data['txt'] for _, _, data in list(G.edges(data=True))[:10]]\n",
    "\n",
    "# Print each txt value on a separate line\n",
    "for txt in edge_txts:\n",
    "    print()\n",
    "    print(txt)\n"
   ]
  },
  {
   "cell_type": "code",
   "execution_count": 108,
   "id": "60f2af5f-fab8-4435-b174-4f66eec2086d",
   "metadata": {},
   "outputs": [
    {
     "name": "stdout",
     "output_type": "stream",
     "text": [
      "Targets that appear in multiple different years, with the years:\n",
      "TGT\n",
      "28bytes               [2010, 2011]\n",
      "Ankitbhatt            [2010, 2011]\n",
      "Armbrust              [2010, 2011]\n",
      "BuickCenturyDriver    [2010, 2011]\n",
      "Calabe1992            [2011, 2012]\n",
      "Curtis23              [2010, 2011]\n",
      "DeltaQuad             [2010, 2011]\n",
      "Dusti                 [2010, 2011]\n",
      "Floydian              [2011, 2012]\n",
      "GSorby                [2011, 2012]\n",
      "GiantSnowman          [2011, 2012]\n",
      "Guoguo12              [2010, 2011]\n",
      "HJ Mitchell           [2010, 2011]\n",
      "Hahc21                [2012, 2013]\n",
      "Ironholds             [2010, 2011]\n",
      "ItsZippy              [2011, 2012]\n",
      "Ktr101                [2010, 2012]\n",
      "Lord Roem             [2012, 2013]\n",
      "Marcus Qwertyus       [2010, 2012]\n",
      "My76Strat             [2011, 2012]\n",
      "Rami R                [2010, 2011]\n",
      "Reenem                [2010, 2011]\n",
      "Rehman                [2010, 2011]\n",
      "Richardcavell         [2010, 2011]\n",
      "Richwales             [2010, 2011]\n",
      "Secret                [2010, 2013]\n",
      "Slon02                [2010, 2011]\n",
      "Theopolisme           [2012, 2013]\n",
      "WikiCopter            [2010, 2011]\n",
      "ZooPro                [2010, 2011]\n",
      "Name: YEA, dtype: object\n"
     ]
    }
   ],
   "source": [
    "import pandas as pd\n",
    "\n",
    "# Assuming df is your DataFrame containing the data\n",
    "\n",
    "# Group by 'TGT' and 'YEA' (year) and count the occurrences\n",
    "target_years = df.groupby(['TGT', 'YEA']).size().reset_index(name='count')\n",
    "\n",
    "# Now group by 'TGT' and get the list of distinct years each target appears in\n",
    "target_years_list = target_years.groupby('TGT')['YEA'].apply(list)\n",
    "\n",
    "# Filter for targets that appear in more than one year\n",
    "targets_in_multiple_years = target_years_list[target_years_list.apply(len) > 1]\n",
    "\n",
    "# Output the result\n",
    "print(\"Targets that appear in multiple different years, with the years:\")\n",
    "print(targets_in_multiple_years)\n"
   ]
  },
  {
   "cell_type": "code",
   "execution_count": 109,
   "id": "45d89028-7910-49f7-8518-d90756e073c5",
   "metadata": {},
   "outputs": [
    {
     "name": "stdout",
     "output_type": "stream",
     "text": [
      "Non-admins that became admins in a later year:\n",
      "              TGT  YEA_nonAdmin  YEA_admin\n",
      "0       Lord Roem          2012       2013\n",
      "1       Lord Roem          2012       2013\n",
      "2       Lord Roem          2012       2013\n",
      "3       Lord Roem          2012       2013\n",
      "4       Lord Roem          2012       2013\n",
      "...           ...           ...        ...\n",
      "155752     Slon02          2010       2011\n",
      "155753     Slon02          2010       2011\n",
      "155754     Slon02          2010       2011\n",
      "155755     Slon02          2010       2011\n",
      "155756     Slon02          2010       2011\n",
      "\n",
      "[101053 rows x 3 columns]\n"
     ]
    }
   ],
   "source": [
    "import pandas as pd\n",
    "\n",
    "# Assuming df is your DataFrame containing the data\n",
    "\n",
    "# First, filter non-admins (RES = -1)\n",
    "non_admins = df[df['RES'] == -1]\n",
    "\n",
    "# Now filter admins (RES = 1)\n",
    "admins = df[df['RES'] == 1]\n",
    "\n",
    "# Merge both dataframes on 'SRC' to find non-admins that later become admins\n",
    "merged = pd.merge(non_admins[['TGT', 'YEA']], admins[['TGT', 'YEA']], on='TGT', how='inner', suffixes=('_nonAdmin', '_admin'))\n",
    "\n",
    "# Now, check if the admin year is later than the non-admin year\n",
    "merged = merged[merged['YEA_admin'] > merged['YEA_nonAdmin']]\n",
    "\n",
    "# Output the result\n",
    "print(\"Non-admins that became admins in a later year:\")\n",
    "print(merged)\n"
   ]
  },
  {
   "cell_type": "code",
   "execution_count": null,
   "id": "6a27c2a3-034d-4a70-909d-a7ff687def1f",
   "metadata": {},
   "outputs": [],
   "source": []
  }
 ],
 "metadata": {
  "kernelspec": {
   "display_name": "Python (ADC)",
   "language": "python",
   "name": "adc"
  },
  "language_info": {
   "codemirror_mode": {
    "name": "ipython",
    "version": 3
   },
   "file_extension": ".py",
   "mimetype": "text/x-python",
   "name": "python",
   "nbconvert_exporter": "python",
   "pygments_lexer": "ipython3",
   "version": "3.11.10"
  }
 },
 "nbformat": 4,
 "nbformat_minor": 5
}
